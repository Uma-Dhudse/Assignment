{
 "cells": [
  {
   "cell_type": "markdown",
   "id": "fa350952-3b11-46ee-aa09-08f037e9d0b7",
   "metadata": {},
   "source": [
    "Question 1.\n",
    "   \n",
    "Answer - Python is the interpreted programming language which is easy to understand and write.\n",
    "- Large community support and numbers of libraries like pandas , Numpy .\n",
    "- It can easliy integrates with other languages.\n",
    "- Python syntax is claen and close to english language, which doesn\"t make it look hard for beginners.\n",
    "    And that makes it popular choice among the learners and users.  "
   ]
  },
  {
   "cell_type": "markdown",
   "id": "3e962a39-4ec4-471f-8f49-b77052d0e177",
   "metadata": {},
   "source": [
    "Question 2.\n",
    "\n",
    "Answer - Interpretor in Python executes the code line by line unlike compiler. \n"
   ]
  },
  {
   "cell_type": "markdown",
   "id": "ff565b95-fb91-477e-bef5-636c4ccdd573",
   "metadata": {},
   "source": [
    "Question 3.\n",
    "\n",
    "Answer - Predefined keywords are reserved words in Python which have special meaning and can not be used as identifires (variable or functions) \n",
    "e.g. - true , if, elif , print , None .\n"
   ]
  },
  {
   "cell_type": "markdown",
   "id": "7875b9ad-9e25-4435-875e-9a7057ad9a08",
   "metadata": {},
   "source": [
    "Question 4.\n",
    "\n",
    "Answer - No , keywords can not be used as variable names in Python. \n"
   ]
  },
  {
   "cell_type": "markdown",
   "id": "9875c68a-85d5-4f48-a8b0-a4e72f9f3420",
   "metadata": {},
   "source": [
    "Question 5.\n",
    "\n",
    "Answer - In Python, mutability refers to wheather or not the state of object can be changed after it is created. \n"
   ]
  },
  {
   "cell_type": "markdown",
   "id": "85513170-ba17-4f31-8214-267e5a22c458",
   "metadata": {},
   "source": [
    "Question 6.\n",
    "\n",
    "Answer - Lists are meant to be hold collection of item that may change like adding , removing, updating.\n",
    "\n",
    "And tuples are used for FIXED COLLECTIONS of items like coordinates, function return values.\n",
    "\n",
    "Thats why lists and tuples are mutable and imutable respectively."
   ]
  },
  {
   "cell_type": "markdown",
   "id": "6fc39695-1cf7-46f0-93b2-d899b532ded1",
   "metadata": {},
   "source": [
    "Question 7\n",
    "\n",
    "Answer - \" == \" is the Equality Operator and it checks if two values are equal and comapre the content of objects. \n",
    "\"Is\" is the Identity operator  which checks if two variables refers to the exact same objects.\n"
   ]
  },
  {
   "cell_type": "markdown",
   "id": "97eaf1d4-27f2-4061-b0c0-b597cc9f34a7",
   "metadata": {},
   "source": [
    "Question 8.\n",
    "\n",
    "Answer - In Python, Logical operators are used to combine boolean expression (conditions). They return either True or False based on logics.\n",
    "\n",
    "e.g. (1) And - Return True if both the conditions are true.\n",
    "     (2) Or - Return True if at lease one condition is true. \n"
   ]
  },
  {
   "cell_type": "markdown",
   "id": "86fd1844-e2b6-4554-b9d3-2d6c3caea507",
   "metadata": {},
   "source": [
    "Question 9.\n",
    "\n",
    "Answer - Typecasting in Python is the process of converting the data type of a variable into another data type."
   ]
  },
  {
   "cell_type": "markdown",
   "id": "1c98bc74-8c19-4b03-8a27-b65715fbc044",
   "metadata": {},
   "source": [
    "Question 10.\n",
    "\n",
    "# Implicit Typecasting and Explicit typecasting                                           \n",
    "\n",
    "1. Python automatically convert one data type to another during an opertaion, without user intervention where as in Explicit Typecasting Programmer manually converts one data type to another while using casting funcions.\n",
    "\n",
    "2. In Implicit Typecasting there is no loss of data where in Explicit Type casting the data can be loss.\n",
    "\n",
    "3. Implicit Typecasting is triggred when combining different data type in an expression and  Explicit Typecasting is triggred when the programmer needs to force a data type cononversion."
   ]
  },
  {
   "cell_type": "markdown",
   "id": "2d4b3746-694a-4c95-b321-2ff389f27c60",
   "metadata": {},
   "source": [
    "Question 11.\n",
    "\n",
    "Answer - Conditional statements in Python are used to control the flow of the program based on certain conditions. They allow the program to make decision and execute specific blocks of code only when certain conditions are met. "
   ]
  },
  {
   "cell_type": "markdown",
   "id": "7f34937b-394d-4718-9231-c50abec9afb0",
   "metadata": {},
   "source": [
    "Question 12.\n",
    "\n",
    "Answer - # Python first checks the 'if' condition - if it is true, it executes that block and skips the rest.\n",
    "\n",
    "# If the 'if' condition is false, Python check the elif condition(s) - If the elif is true, it execute that block and skip the other conditions.\n",
    "\n",
    "# if none of the if and elif conditions are true, Python checks the else block if it is provided.  \n",
    "\n",
    "     This is how 'elif' condition works. "
   ]
  },
  {
   "cell_type": "markdown",
   "id": "d8ec26d4-d8aa-47ce-aaaa-e2cc83af2aee",
   "metadata": {},
   "source": [
    "Question 13.\n",
    "\n",
    "Answer- # for Loop and While loop\n",
    "\n",
    "1. For loop is used for iterating over a sequence of elements where as while loop is used for executing code until the specified condition becomes false.\n",
    "\n",
    "2. In For loop user is aware of number of iteratiions where in while loop user is not aware of number of iteratiions.\n",
    "\n",
    "3. In for loop risk of infinite loop is very low and in while loop Risk of infinite loop is high if condition is missing."
   ]
  },
  {
   "cell_type": "markdown",
   "id": "a051d176-f23a-4113-98ab-0025a4060514",
   "metadata": {},
   "source": [
    "Question 14.\n",
    "\n",
    "Answer -  If I am creating a program that asks the user to enter 10 mobile number and if the user skips or add extra number, code will not be execute.\n",
    "\n",
    "So in order to exedute the code the loop should keep asking until correct output is provided. \n",
    "\n",
    "     As the number of attemps are not fixed , this is condition based loop so, in this scenario while loop is more suitable than for  loop."
   ]
  },
  {
   "cell_type": "code",
   "execution_count": null,
   "id": "91a66dae-3f0d-4675-9957-cb9073bee4b7",
   "metadata": {},
   "outputs": [],
   "source": [
    "# Practical Questions"
   ]
  },
  {
   "cell_type": "code",
   "execution_count": 2,
   "id": "f80cf0bb-2cef-4cd8-8d90-c13420ced742",
   "metadata": {},
   "outputs": [
    {
     "name": "stdout",
     "output_type": "stream",
     "text": [
      "Hello World\n"
     ]
    }
   ],
   "source": [
    "#Question 1.\n",
    "\n",
    "print(\"Hello World\")"
   ]
  },
  {
   "cell_type": "code",
   "execution_count": 1,
   "id": "cc99b34d-3161-4dba-b6b1-5be387aef874",
   "metadata": {},
   "outputs": [
    {
     "name": "stdin",
     "output_type": "stream",
     "text": [
      "Name: Uma Dhudse\n",
      "Age : 24\n"
     ]
    }
   ],
   "source": [
    "# Question 2.\n",
    "\n",
    "Name = input ( \"Name:\")\n",
    "Age = input (\"Age :\")\n",
    "\n",
    " "
   ]
  },
  {
   "cell_type": "code",
   "execution_count": 15,
   "id": "0f216ef3-9f6d-4e2a-a304-69daff15d7f7",
   "metadata": {},
   "outputs": [
    {
     "name": "stdout",
     "output_type": "stream",
     "text": [
      "\n",
      "Here is a list of the Python keywords.  Enter any keyword to get more help.\n",
      "\n",
      "False               class               from                or\n",
      "None                continue            global              pass\n",
      "True                def                 if                  raise\n",
      "and                 del                 import              return\n",
      "as                  elif                in                  try\n",
      "assert              else                is                  while\n",
      "async               except              lambda              with\n",
      "await               finally             nonlocal            yield\n",
      "break               for                 not                 \n",
      "\n"
     ]
    }
   ],
   "source": [
    "# Question 3\n",
    "\n",
    "help('keywords')"
   ]
  },
  {
   "cell_type": "code",
   "execution_count": 22,
   "id": "9bdf0184-babb-49b9-b324-fbe5a90ee07d",
   "metadata": {},
   "outputs": [
    {
     "name": "stdout",
     "output_type": "stream",
     "text": [
      "True\n",
      "False\n"
     ]
    }
   ],
   "source": [
    "# Question 4 \n",
    "\n",
    "import keyword\n",
    "\n",
    "print (keyword.iskeyword (\"None\"))\n",
    "\n",
    "print (keyword.iskeyword (\"Uma\"))"
   ]
  },
  {
   "cell_type": "code",
   "execution_count": 63,
   "id": "00c216b6-bf87-47fe-9a0f-cbad49f22956",
   "metadata": {},
   "outputs": [
    {
     "name": "stdout",
     "output_type": "stream",
     "text": [
      "['Uma', 'Piyush', 99.36, 'Data', ' Laptop', 0]\n"
     ]
    },
    {
     "ename": "TypeError",
     "evalue": "'tuple' object does not support item assignment",
     "output_type": "error",
     "traceback": [
      "\u001b[1;31m---------------------------------------------------------------------------\u001b[0m",
      "\u001b[1;31mTypeError\u001b[0m                                 Traceback (most recent call last)",
      "Cell \u001b[1;32mIn[63], line 10\u001b[0m\n\u001b[0;32m      8\u001b[0m \u001b[38;5;66;03m# tuple\u001b[39;00m\n\u001b[0;32m      9\u001b[0m u \u001b[38;5;241m=\u001b[39m (\u001b[38;5;241m72\u001b[39m, \u001b[38;5;241m97\u001b[39m, \u001b[38;5;241m96\u001b[39m, \u001b[38;5;241m39\u001b[39m, \u001b[38;5;241m34\u001b[39m)\n\u001b[1;32m---> 10\u001b[0m u[\u001b[38;5;241m2\u001b[39m] \u001b[38;5;241m=\u001b[39m \u001b[38;5;241m99\u001b[39m\n\u001b[0;32m     11\u001b[0m \u001b[38;5;28mprint\u001b[39m(u)\n",
      "\u001b[1;31mTypeError\u001b[0m: 'tuple' object does not support item assignment"
     ]
    }
   ],
   "source": [
    "# question 5 \n",
    "\n",
    "# list\n",
    "p = [\"Uma\", 2, 99.36 , \"Data\" , \" Laptop\", 0 ]\n",
    "p[1] = \"Piyush\"\n",
    "print(p)\n",
    "\n",
    "# tuple\n",
    "u = (72, 97, 96, 39, 34)\n",
    "u[2] = 99\n",
    "print(u)\n",
    "\n",
    "\n",
    "# As now you can see how attempting to change an element works differently for list and tuple. "
   ]
  },
  {
   "cell_type": "code",
   "execution_count": 1,
   "id": "7728f033-f787-4b32-b0ab-121f70fbb874",
   "metadata": {},
   "outputs": [
    {
     "name": "stdout",
     "output_type": "stream",
     "text": [
      "a : 25\n",
      "b: [10, 20, 30, 40, 50, 60]\n"
     ]
    }
   ],
   "source": [
    "# question 6\n",
    "\n",
    "a = 25 #integer value\n",
    "b = [10, 20, 30, 40, 50 ] #list\n",
    "b.append(60)\n",
    "print( \"a :\" , a)\n",
    "print (\"b:\" , b)\n",
    "\n",
    "# when i tried to append to 'a' , that was throwing me an error."
   ]
  },
  {
   "cell_type": "code",
   "execution_count": 2,
   "id": "0a681912-714e-431c-af48-0e8a79fb30b0",
   "metadata": {},
   "outputs": [
    {
     "name": "stdin",
     "output_type": "stream",
     "text": [
      "Enter First Number  : 5\n",
      "Enter Second Number : 5\n"
     ]
    },
    {
     "name": "stdout",
     "output_type": "stream",
     "text": [
      "Addition :  10\n",
      "Subtraction :  0\n",
      "Multiplication : 25\n"
     ]
    }
   ],
   "source": [
    "# question 7\n",
    "\n",
    "x = int(input (\"Enter First Number  :\"))\n",
    "y = int (input (\"Enter Second Number :\"))\n",
    "\n",
    "print (\"Addition : \" , x + y )\n",
    "print (\"Subtraction : \", x-y)\n",
    "print (\"Multiplication :\" , (x*y))"
   ]
  },
  {
   "cell_type": "code",
   "execution_count": 3,
   "id": "4c593cbd-c60d-4595-8ee0-75bb17dcb710",
   "metadata": {},
   "outputs": [
    {
     "name": "stdout",
     "output_type": "stream",
     "text": [
      " a and b :  False\n",
      " a or b : True\n",
      " not a : False\n"
     ]
    }
   ],
   "source": [
    "## Question 8\n",
    "\n",
    "a = True\n",
    "b = False\n",
    "\n",
    "print(\" a and b : \",a and b )\n",
    "\n",
    "print(\" a or b :\" , a or b)\n",
    "\n",
    "print(\" not a :\" , not a)"
   ]
  },
  {
   "cell_type": "code",
   "execution_count": 67,
   "id": "c0bd6b24-2836-4f01-aee7-9398c63bcbd0",
   "metadata": {},
   "outputs": [
    {
     "name": "stdin",
     "output_type": "stream",
     "text": [
      "Enter a number : 8\n"
     ]
    },
    {
     "name": "stdout",
     "output_type": "stream",
     "text": [
      "Interger : 8\n",
      "Float: 8.0\n",
      "bool : True\n"
     ]
    }
   ],
   "source": [
    "# Question 9\n",
    "\n",
    "# input is string\n",
    "user_input = input(\"Enter a number :\")\n",
    "\n",
    "# converting str input into int\n",
    "int_value = int(user_input)\n",
    "print (\"Interger :\" , int_value )\n",
    "\n",
    "# converting str into float value\n",
    "float_value = float(user_input)\n",
    "print('Float:', float_value)\n",
    "\n",
    "# converting str into boolean value\n",
    "bool_value = bool(user_input)\n",
    "print (\"bool :\" , bool_value)\n"
   ]
  },
  {
   "cell_type": "code",
   "execution_count": 6,
   "id": "c07c6319-b0fe-4b61-a8d4-4c9627bcf3d9",
   "metadata": {},
   "outputs": [
    {
     "name": "stdout",
     "output_type": "stream",
     "text": [
      " Integer List : [1, 4, 9, 7]\n",
      " Float List : [1.0, 4.0, 9.0, 7.0]\n"
     ]
    }
   ],
   "source": [
    "# Question 10\n",
    "\n",
    "str_list = [ '1','4', '9', '7' ]\n",
    "\n",
    "int_list = [ int(u) for u in str_list]\n",
    "print( \" Integer List :\" , int_list)\n",
    "\n",
    "float_list = [ float(u) for u in str_list]\n",
    "print (\" Float List :\" , float_list)"
   ]
  },
  {
   "cell_type": "code",
   "execution_count": null,
   "id": "23e800e8-01c2-442c-bc17-f3a87f37a761",
   "metadata": {},
   "outputs": [],
   "source": [
    "# Question 11\n",
    "\n",
    "x =  float (input (\"Number =\"))\n",
    "if x > 0:\n",
    "    print (\"Number is Positive\")\n",
    "elif x < 0 :\n",
    "    print (\"Number is Negative\")\n",
    "else :\n",
    "    print(\"The Number is Zero\")"
   ]
  },
  {
   "cell_type": "code",
   "execution_count": 3,
   "id": "08924dde-40f8-4c4d-a75c-685db95c4f8b",
   "metadata": {},
   "outputs": [
    {
     "name": "stdout",
     "output_type": "stream",
     "text": [
      "1\n",
      "2\n",
      "3\n",
      "4\n",
      "5\n",
      "6\n",
      "7\n",
      "8\n",
      "9\n",
      "10\n"
     ]
    }
   ],
   "source": [
    "# Question - 12\n",
    "for i in range(1,11):\n",
    "    print(i)"
   ]
  },
  {
   "cell_type": "code",
   "execution_count": 33,
   "id": "0888befe-da5e-4467-b843-a5b154cf2992",
   "metadata": {},
   "outputs": [
    {
     "name": "stdout",
     "output_type": "stream",
     "text": [
      "Sum of even numbers from 1 to 50 is : 650\n"
     ]
    }
   ],
   "source": [
    "# Question 13\n",
    "\n",
    "total = 0\n",
    "for u in range (1,51) :\n",
    "    if u % 2 == 0:\n",
    "        total += u\n",
    "print (\"Sum of even numbers from 1 to 50 is :\",total)\n",
    "    "
   ]
  },
  {
   "cell_type": "code",
   "execution_count": 10,
   "id": "d12c1e8e-c85f-45a0-b9a6-948af28b9527",
   "metadata": {},
   "outputs": [
    {
     "name": "stdout",
     "output_type": "stream",
     "text": [
      "Amu\n"
     ]
    }
   ],
   "source": [
    "# question 14\n",
    "\n",
    "str = \"umA\"\n",
    "print(str[:: -1])\n"
   ]
  },
  {
   "cell_type": "code",
   "execution_count": 63,
   "id": "bb4ea23c-ed0c-470e-9b93-ddc69860cf71",
   "metadata": {},
   "outputs": [
    {
     "name": "stdin",
     "output_type": "stream",
     "text": [
      "Enter a number :  15\n"
     ]
    },
    {
     "name": "stdout",
     "output_type": "stream",
     "text": [
      "factorial of 15 is: 1307674368000\n"
     ]
    }
   ],
   "source": [
    "# Question - 15\n",
    "num = int (input (\"Enter a number : \"))\n",
    "factorial = 1\n",
    "i = 1\n",
    "while i <= num:\n",
    "    factorial *= i \n",
    "    i += 1\n",
    "print (\"factorial of\" , num , \"is:\" , factorial)"
   ]
  },
  {
   "cell_type": "code",
   "execution_count": null,
   "id": "b33843e0-51fb-4199-a07f-aa6b5571a9ee",
   "metadata": {},
   "outputs": [],
   "source": []
  }
 ],
 "metadata": {
  "kernelspec": {
   "display_name": "Python [conda env:base] *",
   "language": "python",
   "name": "conda-base-py"
  },
  "language_info": {
   "codemirror_mode": {
    "name": "ipython",
    "version": 3
   },
   "file_extension": ".py",
   "mimetype": "text/x-python",
   "name": "python",
   "nbconvert_exporter": "python",
   "pygments_lexer": "ipython3",
   "version": "3.12.7"
  }
 },
 "nbformat": 4,
 "nbformat_minor": 5
}
