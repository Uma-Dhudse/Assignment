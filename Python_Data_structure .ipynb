{
 "cells": [
  {
   "cell_type": "markdown",
   "id": "e803eb64-e590-4c18-9fc5-670647859a72",
   "metadata": {},
   "source": [
    "Theory Question >>>>>>>>"
   ]
  },
  {
   "cell_type": "markdown",
   "id": "2ccf1cb7-5195-4395-bda1-87f23363c019",
   "metadata": {},
   "source": [
    " Question no : 1\n",
    "\n",
    "Answer: Data structures in python are speciallized format for organizing and storing data efficiently so it can be accessed and modified. \n",
    "In Python , data structures are essential for organizing data efficiently , writing clean code as it helps to manage large amounts of data with minimal code and sloving real - world problems quickly and effectively."
   ]
  },
  {
   "cell_type": "markdown",
   "id": "124989a7-0c62-40fb-a9b5-e8c2896e6752",
   "metadata": {},
   "source": [
    "Question No 2 :\n",
    "\n",
    "Answer :\n",
    "\n",
    "Mutable Data type and Imutable Data Type\n",
    "\n",
    "1. in mutable data types the values of the data can be changed after creation and in imutable data type the values of the data can not be changed after creation.\n",
    "\n",
    "2. Mutable types are useful when you need to update data often  and Immutable are safer when you want to avoid accidental changes.\n",
    "\n",
    "3. Exaples of mutables are: List, Set, Dictionary and examples of Imutables are: Int, Float, String , Tuple, Bool.\n",
    "\n",
    "4. In mutable data type changes happen in the same memory and in imutable data type changes creat a new object.\n",
    "                                                     \n"
   ]
  },
  {
   "cell_type": "markdown",
   "id": "d05fb982-67b0-4878-9898-e2b461bd9634",
   "metadata": {},
   "source": [
    " Question No 3 :\n",
    "\n",
    "#list and Tuple\n",
    "\n",
    "1.In list You can change, add,or remove items after creation wherein in tuple once created, they can not be modified.\n",
    "\n",
    "2. List has many built-in method like .append() , .remove(), .sort(),etc but in tuple very few methods like .count() and .index()\n",
    "\n",
    "3. Lists are slightly slower due to flexibility where the tuples are faster than list for iteration and access .\n",
    "\n",
    "4. Syntax of list = [ ]  and   Syntax  of tuple = ( )\n",
    "\n",
    "5. list is used when Data might need to change and tuple are used when data is fixed and no need to update or add or remove.\n",
    "\n",
    "6. List consumes more memory than tuple.\n",
    "\n"
   ]
  },
  {
   "cell_type": "markdown",
   "id": "e24a6384-6345-4ba7-b255-3a1899e17ade",
   "metadata": {},
   "source": [
    "Question No : 4 \n",
    "\n",
    "A dictionary in Python stores data in the form of Key-value pairs.\n",
    "\n",
    "example - Name: Uma  and Age : 24\n",
    "Here Name and age are key and Uma and 24 are value respectively.\n",
    "\n"
   ]
  },
  {
   "cell_type": "markdown",
   "id": "0fcb4acb-59cb-4731-b9b6-b0c907447b29",
   "metadata": {},
   "source": [
    "Question No : 5\n",
    "\n",
    "Reasons to use of Set insted of List in Python-\n",
    "\n",
    "1] Set automatically removes duplicate values , so you can store uniques values only.\n",
    "2] Cheking if an item exists in a set is faster than in a list.\n",
    "3] Sets support useful mathematical operations like union, intersection and difference.\n",
    "4] As sets are unorderd by default so you can use it if you don't care about the order of items or indexing .\n"
   ]
  },
  {
   "cell_type": "markdown",
   "id": "36244e12-928e-432b-a045-66b81df56e87",
   "metadata": {},
   "source": [
    "Question No : 6\n",
    "\n",
    "-String in Python is a sequence of charecters enclosed in a quotes either sing,double or triple.\n",
    "-It is used to represents textual data such as words, sentences or combination of words. \n",
    "-String's data type is only text data but list can have any data type like int, str, float.\n",
    "- Strings are not mutable but lists are.\n",
    "- Syntax of strings is enclosed in quootes(\"....\")\n",
    "and list is encloesd in square brackets [    ]"
   ]
  },
  {
   "cell_type": "markdown",
   "id": "ede1ee83-9bde-45b2-8a52-354a5c71f126",
   "metadata": {},
   "source": [
    "Question No : 7\n",
    "\n",
    "In Python , a Tuple is an immutable sequence of elements. \n",
    "\n",
    "This immutability playes a key role in ensuring data integrety which means that the data stored in a tuple can not be changed accidently or \n",
    "intentionally after it is created.\n",
    "\n",
    "Tuples are ideal for storing fixed data like dates, constants and in dictionary, keys which are allows for storing data in a secure and \n",
    "structured way we can use tuple over there.\n",
    "\n",
    "\n"
   ]
  },
  {
   "cell_type": "markdown",
   "id": "daf18146-9ffa-4ace-a65b-938d0b38dda2",
   "metadata": {},
   "source": [
    "Question No : 8 \n",
    "\n",
    "Answer - The hash table in a data structure that stores key-value pairs. It uses a hash function to convert the key into a unique index (hash code)\n",
    "which determines where the value is stored in memory. This allows for verry fast data retrival, insertion and deletion. \n",
    "\n",
    "In Python , dictionary is implemented using Hash table. Each key in a dictionary is hashed and the hash value determines where the corresponding value is stored. \n",
    "\n",
    "Dictionary operations like add , get , delete are very fast. "
   ]
  },
  {
   "cell_type": "markdown",
   "id": "f1d84b25-bda8-450a-a1c5-93087bbba394",
   "metadata": {},
   "source": [
    "Question No : 9\n",
    "\n",
    "Answer-  Yes. List can contain different data types."
   ]
  },
  {
   "cell_type": "markdown",
   "id": "09ea32cb-cc9b-4e83-b88f-a270d33ce3ac",
   "metadata": {},
   "source": [
    "Question No : 10\n",
    "\n",
    "Answer- Strings are immutable in python as :\n",
    "\n",
    "1 . Python stores strings in memory and may reuse them and if the strings were mutable , reusing them safely would not be possible. \n",
    "\n",
    "2 . Immutability ensures that the hash value of the strings remains constant as the strings are use for key and key must not change.\n",
    "\n",
    "3 . If strings could be changed, tracking all numbers would be difficult. Immutability avoids unexpected bugs and make debugging easier.\n",
    "\n",
    "4 . If you want to store firm text data, strings are best for it.\n",
    "\n",
    "\n",
    " "
   ]
  },
  {
   "cell_type": "markdown",
   "id": "6da198ba-006d-4099-92fc-9c4461297a1b",
   "metadata": {},
   "source": [
    "Question No : 11\n",
    "\n",
    "Answer- 1. dictionaries let you access values using a key , not a number (index).\n",
    "\n",
    "2 . Dictionaries are faster than searching through a list . \n",
    "\n",
    "3 . Using keys its easy to add, update , delete the items in a dictionary by using keys.\n",
    "\n",
    "4 . Keys in a dictionary can describe a data which is easy to read while in list we use the numbers only which can be confusing. \n",
    "\n",
    "5 . Look up speed in dictionaries is very fast as comapare to lists. \n",
    "\n",
    "6 . Dictionary automatically prevents duplicate keys unlike lists . \n",
    "\n",
    "7 . In a list you must search one by one but in dictionary just by using key you can have instant access to the value."
   ]
  },
  {
   "cell_type": "markdown",
   "id": "2ccb2a76-cf8a-4086-93cb-f85f94e2ef21",
   "metadata": {},
   "source": [
    "Question No : 12 \n",
    "\n",
    "Answer-  If  I talk about the scenario : Suppose I need to store student record which contain Roll number and Name. \n",
    "\n",
    "As the roll number and Name together form a complete unchanging identity and I do not want anyone accidentally editing the roll number or name and in this case we can not use list as dictionary key but can use a tuple. \n",
    "\n",
    "Using tuple can prevents accidental changes unlike a list. \n",
    "\n",
    "Tuples are faster than list as they are immutable and also consume less momory as compare to list. \n",
    "\n"
   ]
  },
  {
   "cell_type": "markdown",
   "id": "de78a0aa-ccb0-4e0c-b79b-df89fe64c70e",
   "metadata": {},
   "source": [
    "Question No : 13\n",
    "\n",
    "Answer- Sets are the unorderd collection of unique elements , SO in Python sets automatically remove duplicate values and if we try to add a duplicate values Python silently ignores it. \n",
    "\n",
    "Even if we try to add some values more than one to a set , only one copy is kept as Python checks internally if the value is already there using hashing , if there is the value , Python doesn't add it again. \n"
   ]
  },
  {
   "cell_type": "markdown",
   "id": "0da5e643-7071-47d4-a85c-750ec36ac500",
   "metadata": {},
   "source": [
    "Question No : 14\n",
    "\n",
    "Answer- In a list the 'in' keyword checks if the value is present in the list. it searches through the list from start to end to find the item. \n",
    "\n",
    "In dictionary the 'in' keyword checks if the if the key is present and not the value.\n",
    "\n"
   ]
  },
  {
   "cell_type": "markdown",
   "id": "9bc154b3-8e92-4d7f-af22-32e5a1270259",
   "metadata": {},
   "source": [
    "Question No : 15\n",
    "\n",
    "Answer- No you can not modify the elements of the tuple.\n",
    "\n",
    "As the tuples in python are immutable , which means once created , their elements can not be chnaged .\n",
    "\n",
    "Adding , removing , updating is not allowed.\n",
    "\n",
    "Tuple protect data from accidental changes. "
   ]
  },
  {
   "cell_type": "markdown",
   "id": "1de47449-42aa-4adc-b727-e76d00d2ec5b",
   "metadata": {},
   "source": [
    "Question No : 16\n",
    "\n",
    "Answer- Nested dictionary is the dictionary inside another dictionary .\n",
    "\n",
    "It allows us to store more complex , structured data like table records or grouped information \n",
    "\n"
   ]
  },
  {
   "cell_type": "markdown",
   "id": "0e9a51f0-aa32-41cf-b1d6-740559f90690",
   "metadata": {},
   "source": [
    "Question No : 17\n",
    "\n",
    "Answer- \n",
    "\n",
    "In Python accessing elements in a dictionary has average time complexity which means it takes constant time , regardless of the size of the dictionary.\n",
    "Dictionary in Python are implemented using hash tables , when you try to access the value using key, Python computes the hash of the key and use that hash to find the index where the key-value pair is stored.  And directly access the value from the index."
   ]
  },
  {
   "cell_type": "raw",
   "id": "5976c9bc-4ff0-42f5-8848-42baebf281f2",
   "metadata": {},
   "source": [
    "Question No : 18\n",
    "\n",
    "Answer- \n",
    "1 . If you do not need to name each item , use list to make it simpler and cleaner .\n",
    "2 . Use list when needs to be stored in orderd. \n",
    "3 . List allows access to elements using their index .\n",
    "4 . Lists are ideal when we want to store multiple items of the same type .\n",
    "5 . When memory usage need to be low as list consumes less memory than dictionary because they do not store keys.\n",
    "6 . lists only store values whereas dictionary stores key - value pairs. If we don't need keys to identify the data , list are better."
   ]
  },
  {
   "cell_type": "markdown",
   "id": "4dc39e1d-384d-4966-bb26-9711c40a6d25",
   "metadata": {},
   "source": [
    "Question No : 19\n",
    "\n",
    "Answer- Dictonaries are considered unorederd because they did not maintain the order in which key - value pairs were added which means the items in a dictionary could appear in any order when we print the dictionary.\n",
    "\n",
    "Effects - \n",
    "1 . If we loop through a dictionary , the order of the item may not match the order they were inserted . So we should not depend on order while processing dictionary data. \n",
    "\n",
    "2 . When retrieving item dictionaries do not return them in sorted order. We need to explicitely sort them if needed using sorted()\n",
    "\n",
    "3 Comparing the dictionary with the list  or tuple can be difficult because dictionries focus on keys and not order.\n",
    "\n",
    "4 . It gives inconsistant output across execution.\n",
    "\n",
    "5 . Grouping and ordering logic must be  handle seperately. "
   ]
  },
  {
   "cell_type": "markdown",
   "id": "ffaaf8a3-016f-4d62-ae7c-7e0fa7221af5",
   "metadata": {},
   "source": [
    "Question No : 20\n",
    "\n",
    "Answer- Data in list is stored in ordered sequence and elements are accessed using their index numbers where in dictionary the data is stored in key-value pair and can be accessed via key and not by position..\n",
    "\n",
    "List is best for sequencial data and dictionary is best for labled data.\n",
    "\n",
    "Access speed in list slower than as in dictionary. "
   ]
  },
  {
   "cell_type": "code",
   "execution_count": 1,
   "id": "35067838-f88d-4543-be12-9a44e2fe3123",
   "metadata": {},
   "outputs": [],
   "source": [
    "#  Practical Questions "
   ]
  },
  {
   "cell_type": "code",
   "execution_count": 5,
   "id": "3d199643-b9b1-42cb-9682-a43b0e220c62",
   "metadata": {},
   "outputs": [
    {
     "name": "stdout",
     "output_type": "stream",
     "text": [
      "My name is :  Uma Dhudse\n"
     ]
    }
   ],
   "source": [
    "# Question No : 1\n",
    "\n",
    "name = \" Uma Dhudse\"\n",
    "\n",
    "print (\"My name is :\", name )"
   ]
  },
  {
   "cell_type": "code",
   "execution_count": 6,
   "id": "eb6e4c63-8172-4f00-b8aa-f34941917eea",
   "metadata": {},
   "outputs": [
    {
     "data": {
      "text/plain": [
       "11"
      ]
     },
     "execution_count": 6,
     "metadata": {},
     "output_type": "execute_result"
    }
   ],
   "source": [
    "# Question No : 2\n",
    "\n",
    "u = (\"Hello World\")\n",
    "len(u)"
   ]
  },
  {
   "cell_type": "code",
   "execution_count": 7,
   "id": "7354a628-5e38-4a3a-84a4-c20e3cf310d5",
   "metadata": {},
   "outputs": [
    {
     "data": {
      "text/plain": [
       "'Pyt'"
      ]
     },
     "execution_count": 7,
     "metadata": {},
     "output_type": "execute_result"
    }
   ],
   "source": [
    "# Question No : 3\n",
    "p = \"Python Programming\"\n",
    "\n",
    "p [0:3]"
   ]
  },
  {
   "cell_type": "code",
   "execution_count": 8,
   "id": "a6b370cf-8b9e-4c88-bc36-aa826571a517",
   "metadata": {},
   "outputs": [
    {
     "data": {
      "text/plain": [
       "'HELLO'"
      ]
     },
     "execution_count": 8,
     "metadata": {},
     "output_type": "execute_result"
    }
   ],
   "source": [
    "# Question No : 4\n",
    "\n",
    "p = \"hello\"\n",
    "\n",
    "p.upper()\n"
   ]
  },
  {
   "cell_type": "code",
   "execution_count": 9,
   "id": "156cbd84-e8b4-40fc-9fb4-3b977910a60a",
   "metadata": {},
   "outputs": [
    {
     "data": {
      "text/plain": [
       "'I like orange'"
      ]
     },
     "execution_count": 9,
     "metadata": {},
     "output_type": "execute_result"
    }
   ],
   "source": [
    "# Question No : 5\n",
    "\n",
    "p = \"I like apple\"\n",
    "\n",
    "p.replace(\"apple\" , \"orange\")\n"
   ]
  },
  {
   "cell_type": "code",
   "execution_count": 69,
   "id": "b760afd4-4344-4ce7-8891-8f5ad6236ec8",
   "metadata": {},
   "outputs": [
    {
     "name": "stdout",
     "output_type": "stream",
     "text": [
      "[1, 2, 3, 4, 5]\n"
     ]
    }
   ],
   "source": [
    "# Question No : 6\n",
    "\n",
    "u = range (1,6)\n",
    "\n",
    "print (list(u))\n"
   ]
  },
  {
   "cell_type": "code",
   "execution_count": 68,
   "id": "19b9c439-8973-4993-a441-f44c429bcc3d",
   "metadata": {},
   "outputs": [
    {
     "data": {
      "text/plain": [
       "[1, 2, 3, 4, 10]"
      ]
     },
     "execution_count": 68,
     "metadata": {},
     "output_type": "execute_result"
    }
   ],
   "source": [
    "# Question No : 7\n",
    "\n",
    "u = [ 1,2,3,4]\n",
    "\n",
    "u.append(10)\n",
    "\n",
    "u"
   ]
  },
  {
   "cell_type": "code",
   "execution_count": 12,
   "id": "1709c49f-7549-4897-adc4-3c72eb21aeaa",
   "metadata": {},
   "outputs": [
    {
     "data": {
      "text/plain": [
       "[1, 2, 4, 5]"
      ]
     },
     "execution_count": 12,
     "metadata": {},
     "output_type": "execute_result"
    }
   ],
   "source": [
    "# Question No : 8\n",
    "\n",
    "p = [1,2,3,4,5]\n",
    "\n",
    "p.remove(3)\n",
    "\n",
    "p"
   ]
  },
  {
   "cell_type": "code",
   "execution_count": 13,
   "id": "d8eb772a-8b82-408c-8d20-78263c64f187",
   "metadata": {},
   "outputs": [
    {
     "data": {
      "text/plain": [
       "'b'"
      ]
     },
     "execution_count": 13,
     "metadata": {},
     "output_type": "execute_result"
    }
   ],
   "source": [
    "# Question No : 9\n",
    "\n",
    "p = [ \"a\", \"b\", \"c\", \"d\"]\n",
    "\n",
    "p[1]\n"
   ]
  },
  {
   "cell_type": "code",
   "execution_count": 14,
   "id": "ba0d24c6-18a2-4212-88db-39bd3c389df1",
   "metadata": {},
   "outputs": [
    {
     "data": {
      "text/plain": [
       "[60, 50, 40, 30, 10, 10]"
      ]
     },
     "execution_count": 14,
     "metadata": {},
     "output_type": "execute_result"
    }
   ],
   "source": [
    "# Question No : 10\n",
    "\n",
    "p = [10, 10,30,40,50,60]\n",
    "\n",
    "p[:: -1]"
   ]
  },
  {
   "cell_type": "code",
   "execution_count": 15,
   "id": "7ff816cb-4a39-4305-8000-765b7896618e",
   "metadata": {},
   "outputs": [
    {
     "name": "stdout",
     "output_type": "stream",
     "text": [
      "(100, 200, 300)\n"
     ]
    },
    {
     "data": {
      "text/plain": [
       "tuple"
      ]
     },
     "execution_count": 15,
     "metadata": {},
     "output_type": "execute_result"
    }
   ],
   "source": [
    "# Question No : 11\n",
    "\n",
    "u = (100,200,300)\n",
    "print(u)\n",
    "type(u)"
   ]
  },
  {
   "cell_type": "code",
   "execution_count": 16,
   "id": "b2d338f9-ef41-4126-878a-1d4ca75a9ef2",
   "metadata": {},
   "outputs": [
    {
     "data": {
      "text/plain": [
       "'blue'"
      ]
     },
     "execution_count": 16,
     "metadata": {},
     "output_type": "execute_result"
    }
   ],
   "source": [
    "# Question No : 12\n",
    " \n",
    "# to access the second to last element of the tuple\n",
    "\n",
    "u = ('red','green','blue','yellow')\n",
    "\n",
    "u [-2]"
   ]
  },
  {
   "cell_type": "code",
   "execution_count": 17,
   "id": "3c416896-ff75-4835-ba30-d63393b46d3c",
   "metadata": {},
   "outputs": [
    {
     "data": {
      "text/plain": [
       "5"
      ]
     },
     "execution_count": 17,
     "metadata": {},
     "output_type": "execute_result"
    }
   ],
   "source": [
    "# Question No :13\n",
    "\n",
    "p = ( 10,20,5,15)\n",
    "min(p)\n"
   ]
  },
  {
   "cell_type": "code",
   "execution_count": 18,
   "id": "2c5d21ad-7c6b-4570-8728-089ccbe62945",
   "metadata": {},
   "outputs": [
    {
     "data": {
      "text/plain": [
       "1"
      ]
     },
     "execution_count": 18,
     "metadata": {},
     "output_type": "execute_result"
    }
   ],
   "source": [
    "# Question No : 14 \n",
    "\n",
    "u = ('dog','cat','rabit')\n",
    "\n",
    "u.index(\"cat\")"
   ]
  },
  {
   "cell_type": "code",
   "execution_count": 19,
   "id": "ac8e6b81-870b-4f89-ad07-af1971658bc6",
   "metadata": {},
   "outputs": [
    {
     "data": {
      "text/plain": [
       "True"
      ]
     },
     "execution_count": 19,
     "metadata": {},
     "output_type": "execute_result"
    }
   ],
   "source": [
    "# Question No : 15\n",
    "\n",
    "u = ('pineapple', 'apple', 'kiwi')\n",
    "\n",
    "'kiwi' in u"
   ]
  },
  {
   "cell_type": "code",
   "execution_count": 20,
   "id": "27aee9c5-28a0-4abe-8858-e190ac2d89d2",
   "metadata": {},
   "outputs": [
    {
     "name": "stdout",
     "output_type": "stream",
     "text": [
      "{'a', 'b', 'c'}\n"
     ]
    },
    {
     "data": {
      "text/plain": [
       "set"
      ]
     },
     "execution_count": 20,
     "metadata": {},
     "output_type": "execute_result"
    }
   ],
   "source": [
    "# Question No : 16\n",
    "\n",
    "s = {'a', 'b', 'c'}\n",
    "print(s)\n",
    "type(s)"
   ]
  },
  {
   "cell_type": "code",
   "execution_count": 21,
   "id": "980c2b14-10e8-4e29-89ef-732595643e00",
   "metadata": {},
   "outputs": [
    {
     "data": {
      "text/plain": [
       "set()"
      ]
     },
     "execution_count": 21,
     "metadata": {},
     "output_type": "execute_result"
    }
   ],
   "source": [
    "# Question No : 17\n",
    "\n",
    "set = {1,2,3,4,5}\n",
    "set.clear()\n",
    "set"
   ]
  },
  {
   "cell_type": "code",
   "execution_count": 22,
   "id": "dd3c7b17-f900-443e-a0ef-6a7335a87586",
   "metadata": {},
   "outputs": [
    {
     "data": {
      "text/plain": [
       "{1, 2, 3}"
      ]
     },
     "execution_count": 22,
     "metadata": {},
     "output_type": "execute_result"
    }
   ],
   "source": [
    "# Question No : 18\n",
    "\n",
    "s = {1,2,3,4}\n",
    "s.remove(4)\n",
    "s"
   ]
  },
  {
   "cell_type": "code",
   "execution_count": 23,
   "id": "c2f99318-84ef-4529-8987-1e17312fbe81",
   "metadata": {},
   "outputs": [
    {
     "data": {
      "text/plain": [
       "{1, 2, 3, 4, 5}"
      ]
     },
     "execution_count": 23,
     "metadata": {},
     "output_type": "execute_result"
    }
   ],
   "source": [
    "# Question No : 19\n",
    "\n",
    "m = {1,2,3}\n",
    "n= {3,4,5}\n",
    "m|n"
   ]
  },
  {
   "cell_type": "code",
   "execution_count": 24,
   "id": "8cdf43e8-d436-4770-bfa2-02e9ac22676e",
   "metadata": {},
   "outputs": [
    {
     "data": {
      "text/plain": [
       "{2, 3}"
      ]
     },
     "execution_count": 24,
     "metadata": {},
     "output_type": "execute_result"
    }
   ],
   "source": [
    "# Question No : 20\n",
    "\n",
    "u ={1,2,3}\n",
    "p = {2,3,4}\n",
    "u & p\n"
   ]
  },
  {
   "cell_type": "code",
   "execution_count": 25,
   "id": "0923006d-e9a6-4bf1-ac7d-b7da2a74cae4",
   "metadata": {},
   "outputs": [
    {
     "name": "stdout",
     "output_type": "stream",
     "text": [
      "{'name': 'Uma', 'age': 24, 'city': 'Jaipur'}\n"
     ]
    }
   ],
   "source": [
    "# Question No : 21\n",
    "\n",
    "d = {\"name\" : \"Uma\" ,\"age\": 24, \"city\" : \"Jaipur\"}\n",
    "print(d)"
   ]
  },
  {
   "cell_type": "code",
   "execution_count": 26,
   "id": "0a1fa3d4-8b5a-4f04-b901-aea6d20beda9",
   "metadata": {},
   "outputs": [
    {
     "name": "stdout",
     "output_type": "stream",
     "text": [
      "{'name': 'John', 'age': 25, 'country': 'USA'}\n"
     ]
    }
   ],
   "source": [
    "# Question No : 22\n",
    "\n",
    "d= {'name' : 'John' ,'age' : 25 }\n",
    "d ['country'] = 'USA'\n",
    "print(d)"
   ]
  },
  {
   "cell_type": "code",
   "execution_count": 27,
   "id": "073e6d47-6003-4976-b7dc-723275577156",
   "metadata": {},
   "outputs": [
    {
     "data": {
      "text/plain": [
       "'Alice'"
      ]
     },
     "execution_count": 27,
     "metadata": {},
     "output_type": "execute_result"
    }
   ],
   "source": [
    "# Question No : 23\n",
    "\n",
    "d = {'name' : 'Alice' , 'age': 30}\n",
    "\n",
    "d['name']"
   ]
  },
  {
   "cell_type": "code",
   "execution_count": 28,
   "id": "fb749efa-120c-402e-9caf-b480f5f95495",
   "metadata": {},
   "outputs": [
    {
     "name": "stdout",
     "output_type": "stream",
     "text": [
      "{'name': 'bob', 'city': 'Newyork'}\n"
     ]
    }
   ],
   "source": [
    "# Question No : 24\n",
    "\n",
    "u = { \"name\": \"bob\", \"age\": 22, \"city\": \"Newyork\"}\n",
    "u.pop(\"age\")\n",
    "print(u)"
   ]
  },
  {
   "cell_type": "code",
   "execution_count": 29,
   "id": "878b756b-33fd-4a5e-a76d-10941e8e70ce",
   "metadata": {},
   "outputs": [
    {
     "data": {
      "text/plain": [
       "True"
      ]
     },
     "execution_count": 29,
     "metadata": {},
     "output_type": "execute_result"
    }
   ],
   "source": [
    "# Question No : 25\n",
    "\n",
    "u = {'name': 'Alice' , 'city': 'Paris'}\n",
    "\n",
    "\"city\" in u"
   ]
  },
  {
   "cell_type": "code",
   "execution_count": 30,
   "id": "18bcb023-cd7b-49ff-ad84-20bb9277ab18",
   "metadata": {},
   "outputs": [
    {
     "name": "stdout",
     "output_type": "stream",
     "text": [
      "list : [1, 2, 3, 4, 5]\n",
      "tuple : ('Uma', 29, 'Piyush', 15)\n",
      "dict :  {'Name': 'Piyush', 'Birthdate': 15}\n"
     ]
    }
   ],
   "source": [
    "# Question No : 26\n",
    "\n",
    "l = [1,2,3,4,5]\n",
    "t = ('Uma', 29 , 'Piyush',  15)\n",
    "d = {'Name' : \"Uma\" , \"Birthdate\" : 15}\n",
    "\n",
    "print(\"list :\", l)\n",
    "print(\"tuple :\" ,t)\n",
    "print(\"dict : \" , d)"
   ]
  },
  {
   "cell_type": "code",
   "execution_count": 31,
   "id": "d96119d5-a8e0-4468-9c5c-f54eff757f6a",
   "metadata": {},
   "outputs": [
    {
     "name": "stdout",
     "output_type": "stream",
     "text": [
      "[36, 43, 47, 59, 93]\n"
     ]
    }
   ],
   "source": [
    "# Question No : 27\n",
    "\n",
    "import random\n",
    "list1 = []\n",
    "for i in range(5):\n",
    "    random_numbers = random.randint(1,100)\n",
    "    list1.append(random_numbers)\n",
    "list1.sort()\n",
    "print(list1)"
   ]
  },
  {
   "cell_type": "code",
   "execution_count": 61,
   "id": "f0e10c38-49b0-4cf0-b570-008245d546bf",
   "metadata": {},
   "outputs": [
    {
     "data": {
      "text/plain": [
       "'Jaipur'"
      ]
     },
     "execution_count": 61,
     "metadata": {},
     "output_type": "execute_result"
    }
   ],
   "source": [
    "# Question No :28\n",
    "\n",
    "list1 = ['Uma' ,'Maharashtra' , 'Piyush' , 'Jaipur']\n",
    "list1[3]\n"
   ]
  },
  {
   "cell_type": "code",
   "execution_count": 39,
   "id": "82a62bdf-32ef-4ca0-b482-82df7e62fdda",
   "metadata": {},
   "outputs": [
    {
     "data": {
      "text/plain": [
       "{'Name': 'Uma', 'Birthdate': 15, 'age': 24, 'city': 'Jaipur'}"
      ]
     },
     "execution_count": 39,
     "metadata": {},
     "output_type": "execute_result"
    }
   ],
   "source": [
    "# Question No : 29\n",
    "\n",
    "d1 = {'Name' : \"Uma\" , \"Birthdate\" : 15}\n",
    "d2 = {\"age\": 24, \"city\" : \"Jaipur\"}\n",
    "\n",
    "d1 | d2 #union operation"
   ]
  },
  {
   "cell_type": "code",
   "execution_count": 74,
   "id": "2c5107ca-37b6-43f5-8def-bd65fbae4297",
   "metadata": {},
   "outputs": [
    {
     "name": "stdout",
     "output_type": "stream",
     "text": [
      "{'Maharashtra', 'Uma', 'Doremon', 'Mobile'}\n"
     ]
    }
   ],
   "source": [
    "# Question No : 30\n",
    "\n",
    "\n",
    "y = ['Uma' ,'Mobile' , 'Doremon' , 'Maharashtra']\n",
    "x= set(y)\n",
    "print(x)\n"
   ]
  },
  {
   "cell_type": "code",
   "execution_count": null,
   "id": "b94ef91a-21d2-4b3d-b9d0-bae9e4edaf3d",
   "metadata": {},
   "outputs": [],
   "source": []
  },
  {
   "cell_type": "code",
   "execution_count": null,
   "id": "b40a4ad8-b811-4e4e-bcb4-eef138745f5d",
   "metadata": {},
   "outputs": [],
   "source": []
  },
  {
   "cell_type": "code",
   "execution_count": null,
   "id": "c24980c8-d99c-4dd6-8c47-c65ee2d5aaa5",
   "metadata": {},
   "outputs": [],
   "source": []
  }
 ],
 "metadata": {
  "kernelspec": {
   "display_name": "Python [conda env:base] *",
   "language": "python",
   "name": "conda-base-py"
  },
  "language_info": {
   "codemirror_mode": {
    "name": "ipython",
    "version": 3
   },
   "file_extension": ".py",
   "mimetype": "text/x-python",
   "name": "python",
   "nbconvert_exporter": "python",
   "pygments_lexer": "ipython3",
   "version": "3.12.7"
  }
 },
 "nbformat": 4,
 "nbformat_minor": 5
}
