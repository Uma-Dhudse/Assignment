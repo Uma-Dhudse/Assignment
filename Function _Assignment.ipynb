{
 "cells": [
  {
   "cell_type": "markdown",
   "id": "209d0d5f-5ca0-4a00-883b-a0061850959a",
   "metadata": {},
   "source": [
    "# Theory Question"
   ]
  },
  {
   "cell_type": "markdown",
   "id": "e10ba278-3667-4f4a-ba95-cade752e7ba6",
   "metadata": {},
   "source": [
    "# Qunestion 1\n",
    "Ans - Ans - In Python, a function is a block of reusable code that is defined using the def keyword and \n",
    "can be called by its name to perform a specific task. Functions are usually defined outside of \n",
    "classes and are not associated with any object. They take input (arguments), process it, and may \n",
    "return a result. \n",
    "On the other hand, a method is a function that is associated with an object. Methods are defined \n",
    "inside a class and are called using the dot (.) operator on an object. They can access and modify \n",
    "the data of the object they belong to. \n",
    "In simple terms, all methods are functions, but not all functions are methods. The main \n",
    "difference is that methods are called on objects and often operate on the data within those \n",
    "objects, whereas functions are called independently. "
   ]
  },
  {
   "cell_type": "markdown",
   "id": "bc038e3c-7aa1-4271-9946-e6ab4136ae79",
   "metadata": {},
   "source": [
    "# Qunestion 2\n",
    "Ans:  A parameter is a variable that is listed inside the parentheses when a function is defined. It \n",
    "acts as a placeholder for the value that will be passed to the function. \n",
    "An argument, on the other hand, is the actual value that is passed to the function when it is \n",
    "called. In simple words, parameters are used when defining a function, and arguments are used \n",
    "when calling the function. \n",
    "In summary, parameters define what kind of input a function can take, while arguments are the \n",
    "actual inputs provided to the function during execution."
   ]
  },
  {
   "cell_type": "markdown",
   "id": "458017e0-b0a0-427c-9366-84a8f2e173aa",
   "metadata": {},
   "source": [
    "# Qunestion 3\n",
    "Ans: In Python, a function can be defined in two main ways: by using the def keyword or by using a \n",
    "lambda expression. \n",
    "1. Using the def keyword: \n",
    "This is the most common way to define a function. The def keyword is followed by the \n",
    "function name and parentheses, which may include parameters. The function body \n",
    "contains the block of code that runs when the function is called. \n",
    "2. Using a lambda function: \n",
    "Lambda functions are anonymous functions used for simple and short operations. They \n",
    "are defined using the lambda keyword and can have any number of arguments but only \n",
    "one expression"
   ]
  },
  {
   "cell_type": "markdown",
   "id": "ad440dee-0a19-47ba-8869-334c58dcdda1",
   "metadata": {},
   "source": [
    "# Qunestion 4\n",
    "Ans : The return statement in a Python function is used to send back a result from the function to the \n",
    "caller. When a function is called, it may perform some operations and then use the return \n",
    "statement to provide the final output or result. It also ends the execution of the function at that \n",
    "point. \n",
    "If a function does not have a return statement, it returns None by default. The return statement \n",
    "allows the function to output data that can be stored in a variable or used in further operations. \n",
    "In summary, the purpose of the return statement is to provide the result of the function to the part \n",
    "of the program where the function was called"
   ]
  },
  {
   "cell_type": "markdown",
   "id": "698e46b9-8642-4396-868c-b2eee41cee48",
   "metadata": {},
   "source": [
    "# Qunestion 5\n",
    "Ans:\n",
    "In Python, an iterator is an object that allows you to traverse through all the elements of a \n",
    "collection, one element at a time. It follows the iterator protocol, which means it must have two \n",
    "methods: __iter__  and __next__ . \n",
    "An iterable is any Python object that can return an iterator using the __iter__  method. Common \n",
    "examples of iterables include lists, tuples, strings, and dictionaries. \n",
    "Difference between iterators and iterables: \n",
    "• An iterable is a collection of elements that can be looped over (like using a for loop). \n",
    "• An iterator is the object that actually performs the iteration by using the __next__  \n",
    "method to get the next value. \n",
    "• You can get an iterator from an iterable by using the iter  function. "
   ]
  },
  {
   "cell_type": "markdown",
   "id": "d5681268-023b-4117-b48c-ab7356baa61d",
   "metadata": {},
   "source": [
    "# Qunestion 6\n",
    "Ans:\n",
    "In Python, generators are special functions that return an iterator object and allow you to iterate \n",
    "over data one item at a time. Unlike normal functions that return all values at once, generators \n",
    "produce values lazily, meaning they generate each value only when requested, which helps in \n",
    "saving memory and improving performance for large data sets. \n",
    "Generators are defined using a normal function but with the use of the yield keyword instead of \n",
    "return. Each time the generator’s __next__  method is called (usually using a loop), the function \n",
    "resumes from where it left off and continues execution until it hits the next yield."
   ]
  },
  {
   "cell_type": "markdown",
   "id": "5eae38ba-21d2-4105-bb1e-99421ed536eb",
   "metadata": {},
   "source": [
    "# Qunestion 7\n",
    "Ans:\n",
    "Generators offer several advantages over regular functions, especially when dealing with large \n",
    "datasets or streams of data. Here are the main advantages: \n",
    "1. Memory Efficiency: \n",
    "Generators do not store the entire sequence in memory. They generate values one at a \n",
    "time using the yield keyword, which saves memory when handling large data. \n",
    "2. Faster Performance for Large Data: \n",
    "Since values are generated on the fly, generators are faster and more efficient for \n",
    "processing large or infinite data sequences compared to regular functions that return a full \n",
    "list. \n",
    "3. Lazy Evaluation: \n",
    "Generators use lazy evaluation, which means values are only computed when needed. \n",
    "This reduces unnecessary computation and improves performance. \n",
    "4. Simpler Code: \n",
    "Generators help write cleaner and simpler code using loops and yield, avoiding the need \n",
    "to manage large lists or temporary storage manually. \n",
    "5. Infinite Sequences: \n",
    "Generators are ideal for creating infinite sequences, such as streaming data or continuous \n",
    "number series, which cannot be stored entirely in memory"
   ]
  },
  {
   "cell_type": "markdown",
   "id": "28bf451f-86b4-4cac-9acc-e019de9fcbb1",
   "metadata": {},
   "source": [
    "# Qunestion 8\n",
    "Ans:\n",
    "A lambda function in Python is an anonymous function, meaning it does not have a name. It is \n",
    "defined using the lambda keyword and can have any number of input arguments but only one \n",
    "expression. The result of that expression is automatically returned. \n",
    "Lambda functions are generally used for short, simple operations that can be written in a single \n",
    "line. They are especially useful when a small function is needed for a short time and does not \n",
    "require a full function definition using the def keyword. \n",
    "Lambda functions are typically used in situations where functions are passed as arguments to \n",
    "higher-order functions like map , filter , and sorted , allowing the code to be more concise and \n",
    "readable. \n",
    "In summary, lambda functions are used to create small, quick functions for simple tasks without \n",
    "formally defining them. "
   ]
  },
  {
   "cell_type": "markdown",
   "id": "6e20e046-d4c7-4e31-ba7e-e21ee5f4ba21",
   "metadata": {},
   "source": [
    "# Qunestion 9\n",
    "Ans:\n",
    "The map  function in Python is used to apply a given function to each item of an iterable (such as \n",
    "a list, tuple, etc.) and return a new map object with the results. \n",
    "The main purpose of map  is to perform transformations or operations on each element of an \n",
    "iterable without using an explicit loop"
   ]
  },
  {
   "cell_type": "markdown",
   "id": "a9b9a443-cb1e-43d7-b334-3357ad007466",
   "metadata": {},
   "source": [
    "# Qunestion 10\n",
    "Ans:\n",
    "1. map  Function: \n",
    "The map  function is used to apply a given function to every item in an iterable. It returns \n",
    "a new iterable with the results. \n",
    "o Purpose: Transformation of each element. \n",
    "o Example: Doubling all elements in a list. \n",
    "2. filter  Function: \n",
    "The filter  function is used to select elements from an iterable based on a condition. Only \n",
    "the elements that return True for the given function are included in the result. \n",
    "o Purpose: Filtering out elements based on a condition. \n",
    "o Example: Selecting only even numbers from a list. \n",
    "3. reduce  Function: \n",
    "The reduce  function is used to apply a function cumulatively to the items of an iterable, \n",
    "reducing the iterable to a single value. It is available in the functools module. \n",
    "o Purpose: Performing cumulative operations (like sum or product). \n",
    "o Example: Calculating the total sum of a list of numbers. \n",
    "• map transforms each element, \n",
    "• filter selects elements based on a condition, \n",
    "• reduce combines elements to produce a single result. "
   ]
  },
  {
   "cell_type": "markdown",
   "id": "42232284-216d-4ba0-97dd-cd6652dfaff3",
   "metadata": {},
   "source": [
    "Practical Questions"
   ]
  },
  {
   "cell_type": "code",
   "execution_count": 6,
   "id": "c9bc784b-0529-4bee-8e77-c44b8a7528b1",
   "metadata": {},
   "outputs": [
    {
     "data": {
      "text/plain": [
       "20"
      ]
     },
     "execution_count": 6,
     "metadata": {},
     "output_type": "execute_result"
    }
   ],
   "source": [
    "# Question 1\n",
    "\n",
    "a =[1,2,3,6,5,4,7,8,9]\n",
    "def sum1(p):\n",
    "    sum = 0\n",
    "    for i in p :\n",
    "        if i % 2 == 0:\n",
    "            sum += i\n",
    "    return sum\n",
    "sum1(a) "
   ]
  },
  {
   "cell_type": "code",
   "execution_count": 7,
   "id": "b40e7b68-6e90-4af7-b150-d73038c4865c",
   "metadata": {},
   "outputs": [
    {
     "data": {
      "text/plain": [
       "'Amu'"
      ]
     },
     "execution_count": 7,
     "metadata": {},
     "output_type": "execute_result"
    }
   ],
   "source": [
    "# Question 2\n",
    "\n",
    "def text():\n",
    "    a = \"umA\"\n",
    "    return a[::-1]\n",
    "text()"
   ]
  },
  {
   "cell_type": "code",
   "execution_count": 18,
   "id": "976fd456-6a9c-4525-8f3a-9a9e69107261",
   "metadata": {},
   "outputs": [
    {
     "name": "stdout",
     "output_type": "stream",
     "text": [
      "[1, 4, 9, 16, 25]\n"
     ]
    }
   ],
   "source": [
    "# Question 3\n",
    "\n",
    "def square_list(numbers):\n",
    "    return [x**2 for x in numbers]\n",
    "\n",
    "# Example usage\n",
    "nums = [1, 2, 3, 4, 5]\n",
    "print(square_list(nums))  # Output: [1, 4, 9, 16, 25]"
   ]
  },
  {
   "cell_type": "code",
   "execution_count": 9,
   "id": "bebe034d-4f9a-41d3-a469-0f4ce32b2d4d",
   "metadata": {},
   "outputs": [
    {
     "name": "stdout",
     "output_type": "stream",
     "text": [
      "[2, 3, 5, 7, 11, 13, 17, 19, 23, 29, 31, 37, 41, 43, 47, 53, 59, 61, 67, 71, 73, 79, 83, 89, 97, 101, 103, 107, 109, 113, 127, 131, 137, 139, 149, 151, 157, 163, 167, 173, 179, 181, 191, 193, 197, 199]\n"
     ]
    }
   ],
   "source": [
    "# Question 4\n",
    "\n",
    "def is_prime(n):\n",
    "    if n <= 1:\n",
    "        return False\n",
    "    for i in range(2, n):\n",
    "        if n % i == 0:\n",
    "            return False\n",
    "    return True\n",
    "\n",
    "prime_numbers = []\n",
    "\n",
    "for number in range(1, 201):\n",
    "    if is_prime(number):\n",
    "        prime_numbers.append(number)\n",
    "\n",
    "print(prime_numbers)"
   ]
  },
  {
   "cell_type": "code",
   "execution_count": 10,
   "id": "472e72a3-1744-45b6-85ec-fb327f400702",
   "metadata": {},
   "outputs": [
    {
     "name": "stdout",
     "output_type": "stream",
     "text": [
      "[0, 1, 1, 2, 3, 5, 8, 13, 21, 34]\n"
     ]
    }
   ],
   "source": [
    "# Question 5\n",
    "\n",
    "def fib(n):\n",
    "    a = 0\n",
    "    b = 1\n",
    "    for _ in range(n):\n",
    "        yield a\n",
    "        a, b = b, a + b\n",
    "fib_list = list(fib(10))\n",
    "print(fib_list)"
   ]
  },
  {
   "cell_type": "code",
   "execution_count": 11,
   "id": "2a63d5eb-4bb8-464f-9029-03b373f69d73",
   "metadata": {},
   "outputs": [
    {
     "name": "stdout",
     "output_type": "stream",
     "text": [
      "1\n",
      "2\n",
      "4\n",
      "8\n"
     ]
    }
   ],
   "source": [
    "# Question 6\n",
    "\n",
    "def power(n):\n",
    "    for i in range(n + 1):\n",
    "        yield 2 ** i\n",
    "for num in power(3):\n",
    "    print(num)\n"
   ]
  },
  {
   "cell_type": "code",
   "execution_count": 12,
   "id": "0f6b874a-6ed7-4348-9117-5e415b344406",
   "metadata": {},
   "outputs": [
    {
     "name": "stdout",
     "output_type": "stream",
     "text": [
      "Hello\n",
      "My name is Uma\n",
      "and I have the power to create the life I desire.\n"
     ]
    }
   ],
   "source": [
    "# Question 7\n",
    "\n",
    "with open(\"myfile.txt\", \"w\") as f:\n",
    "    f.write(\"Hello\\n\")\n",
    "    f.write(\"My name is Uma\\n\")\n",
    "    f.write(\"and I have the power to create the life I desire.\\n\")\n",
    "\n",
    "def read_file_lines(file_path):\n",
    "    with open(file_path, 'r') as file:\n",
    "        for line in file:\n",
    "            yield line.strip()  \n",
    "\n",
    "for line in read_file_lines(\"myfile.txt\"):\n",
    "    print(line)\n",
    "\n"
   ]
  },
  {
   "cell_type": "code",
   "execution_count": 13,
   "id": "36ac342e-5811-4f7f-868f-7e877709098d",
   "metadata": {},
   "outputs": [
    {
     "name": "stdout",
     "output_type": "stream",
     "text": [
      "[(5, 1), (1, 2), (2, 3), (3, 4)]\n"
     ]
    }
   ],
   "source": [
    "# Question 8\n",
    "\n",
    "data = [(3, 4), (1, 2), (5, 1), (2, 3)]\n",
    "\n",
    "data.sort(key=lambda x: x[1])\n",
    "\n",
    "print(data)\n",
    "\n"
   ]
  },
  {
   "cell_type": "code",
   "execution_count": 14,
   "id": "dc10a6ec-1392-4d2e-99da-bed3ae6c28f3",
   "metadata": {},
   "outputs": [
    {
     "name": "stdout",
     "output_type": "stream",
     "text": [
      "[32.0, 50.0, 68.0, 86.0, 104.0]\n"
     ]
    }
   ],
   "source": [
    "# Question 9\n",
    "\n",
    "celsius = [0, 10, 20, 30, 40]\n",
    "fahrenheit = list(map(lambda c: (c * 9/5) + 32, celsius))\n",
    "print(fahrenheit)\n"
   ]
  },
  {
   "cell_type": "code",
   "execution_count": 15,
   "id": "86347283-e28d-42c7-a9c3-db6a90ef4680",
   "metadata": {},
   "outputs": [
    {
     "name": "stdout",
     "output_type": "stream",
     "text": [
      "Hll, my nm s Pysh?\n"
     ]
    }
   ],
   "source": [
    "# Question 10\n",
    "text = \"Hello, my name is Piyush?\"\n",
    "\n",
    "vowels = \"aeiouAEIOU\"\n",
    "\n",
    "no_vowels = ''.join(filter(lambda ch: ch not in vowels, text))\n",
    "\n",
    "print(no_vowels)\n"
   ]
  },
  {
   "cell_type": "code",
   "execution_count": 17,
   "id": "59c3f15c-5a02-41cc-80f0-32359ad23f0f",
   "metadata": {},
   "outputs": [
    {
     "name": "stdout",
     "output_type": "stream",
     "text": [
      "[(34587, 163.8), (98762, 284.0), (77226, 108.85000000000001), (88112, 84.97)]\n"
     ]
    }
   ],
   "source": [
    "# Question 11\n",
    "data = [\n",
    "    [34587, \"Learning Python, Mark Lutz\", 4, 40.95],\n",
    "    [98762, \"Programming Python, Mark Lutz\", 5, 56.80],\n",
    "    [77226, \"Head First Python, Paul Barry\", 3, 32.95],\n",
    "    [88112, \"Einführung in Python3, Bernd Klein\", 3, 24.99]\n",
    "]\n",
    "\n",
    "result = list(map(lambda x: (x[0], x[2] * x[3] if x[2] * x[3] >= 100 else x[2] * x[3] + 10), data))\n",
    "print(result)"
   ]
  },
  {
   "cell_type": "code",
   "execution_count": null,
   "id": "345a47e1-5693-4320-a4ee-b182ab84f5cb",
   "metadata": {},
   "outputs": [],
   "source": []
  },
  {
   "cell_type": "code",
   "execution_count": null,
   "id": "0d4c9dbb-526a-49c9-9450-5458cec152cc",
   "metadata": {},
   "outputs": [],
   "source": []
  },
  {
   "cell_type": "code",
   "execution_count": null,
   "id": "e117440e-4411-4047-8a09-7d041dc929b5",
   "metadata": {},
   "outputs": [],
   "source": []
  }
 ],
 "metadata": {
  "kernelspec": {
   "display_name": "Python [conda env:base] *",
   "language": "python",
   "name": "conda-base-py"
  },
  "language_info": {
   "codemirror_mode": {
    "name": "ipython",
    "version": 3
   },
   "file_extension": ".py",
   "mimetype": "text/x-python",
   "name": "python",
   "nbconvert_exporter": "python",
   "pygments_lexer": "ipython3",
   "version": "3.12.7"
  }
 },
 "nbformat": 4,
 "nbformat_minor": 5
}
