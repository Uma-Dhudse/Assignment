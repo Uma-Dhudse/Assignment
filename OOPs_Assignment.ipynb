{
 "cells": [
  {
   "cell_type": "markdown",
   "id": "463766ae-881e-4aef-8912-6e134844a51e",
   "metadata": {},
   "source": [
    "Question No: 01\n",
    "\n",
    "Ans- Object-oriented programming (OOP) is a paradigm in which your code is structured around objects—encapsulated bundles of data (attributes) and behavior (methods). Python fully supports OOP, enabling you to model real-world entities (like cars, books, or users) as software objects for cleaner, modular, and reusable code "
   ]
  },
  {
   "cell_type": "markdown",
   "id": "1b638a18-cab9-4d24-ab49-c3e556bec509",
   "metadata": {},
   "source": [
    "Question No: 02\n",
    "\n",
    "Ans-A class specifies the shared structure and behavior of objects created from it. While the class itself is a template and doesn’t occupy memory, each object—or instance—created from the class does"
   ]
  },
  {
   "cell_type": "markdown",
   "id": "74bdd6d5-8f03-4ab6-93ea-bbed559a2815",
   "metadata": {},
   "source": [
    "Question No: 03\n",
    "\n",
    "Ans- An object is like a real‑world thing in your code. It has its own data (attributes) and things it can do (methods), and it's made from a class (blueprint). or in other words we can say An object is a discrete entity with a unique identity, encapsulating its own state (data) and behavior (methods), created as an instance of a class \n"
   ]
  },
  {
   "cell_type": "markdown",
   "id": "3eccaa80-1e9e-4811-8382-0a719246f20f",
   "metadata": {},
   "source": [
    "Question No: 04\n",
    "\n",
    "Ans- Abstraction hides the complex implementation details and shows only the essential features or what an object does while Encapsulation hides the internal data and restricts direct access to it, protecting the object’s state.\n",
    "\n",
    "-Abstraction is achieved using abstract classes and methods (e.g., via the abc module) that define what needs to be done and Encapsulation is implemented by using private or protected attributes (prefixing with _ or __) and providing getter/setter methods to control access.\n",
    "\n",
    "- Abstraction simplifies the interface so users interact with what the object can do without knowing how and Encapsulation ensures data security and integrity by controlling how data is accessed or modified.\n",
    "\n",
    "-In abstraction, the focus is on hiding the implementation logic wherein , In encapsulation, the focus is on hiding the actual data.\n",
    "\n",
    "-Example of abstraction: An abstract method start_engine() defines the action without revealing internal details.\n",
    "\n",
    "- Example of encapsulation: A private attribute __balance accessed only through methods like deposit() and withdraw()"
   ]
  },
  {
   "cell_type": "markdown",
   "id": "43172697-5295-40cb-b650-ac3afd5ad57f",
   "metadata": {},
   "source": [
    "Question No:05\n",
    "\n",
    "Ans- Dunder methods (double underscore methods), also called magic methods, are special predefined methods in Python whose names start and end with double underscores (e.g., __init__).\n",
    "\n",
    "They allow instances of a class to interact with Python’s built-in functions"
   ]
  },
  {
   "cell_type": "markdown",
   "id": "94720400-acda-4cca-a522-45be6c526622",
   "metadata": {},
   "source": [
    "Question No: 06\n",
    " \n",
    "Ans-Inheritance in Object-Oriented Programming (OOP) is a mechanism where a new class (called a subclass or child class) derives properties and behaviors (attributes and methods) from an existing class (called a superclass or parent class). This allows the subclass to reuse code from the parent class, extend or modify its functionality, and establish a hierarchical relationship between classes. Inheritance promotes code reusability, modularity, and easier maintenance by enabling new classes to build upon existing ones without rewriting code.\n"
   ]
  },
  {
   "cell_type": "markdown",
   "id": "20d34985-9b0a-4c4a-804b-523ce82c5390",
   "metadata": {},
   "source": [
    "Question No: 07\n",
    "\n",
    "Ans-Polymorphism in Object-Oriented Programming (OOP) is the ability of entities such as functions, methods, or objects to take multiple forms. It allows objects of different classes to be treated through the same interface, while each class can provide its own specific implementation of that interface. This means the same method name can behave differently depending on the object calling it. Polymorphism promotes flexibility and extensibility by enabling code to work with objects at a higher level of abstraction. \n",
    "\n",
    "It is commonly achieved through method overriding (where a subclass provides its own version of a method) and method overloading (multiple methods with the same name but different parameters). In essence, polymorphism lets one interface represent multiple underlying forms or behaviors, making programs easier to extend and maintain.\n",
    "\n"
   ]
  },
  {
   "cell_type": "markdown",
   "id": "c8f1ea6a-25eb-4192-bf36-bb22a9df7586",
   "metadata": {},
   "source": [
    "Question No:08\n",
    "\n",
    "Ans-Encapsulation in Python is achieved by bundling data (attributes) and methods that operate on the data within a class and restricting direct access to some of the class’s components to protect the data and ensure controlled usage. "
   ]
  },
  {
   "cell_type": "markdown",
   "id": "e1649f73-4dc1-4c35-b10b-c43e704963ec",
   "metadata": {},
   "source": [
    "Question No:09\n",
    "\n",
    "Ans-A constructor in Python is a special method named __init__() that is automatically called when a new object of a class is created. Its main purpose is to initialize the object's attributes and set up its initial state. \n",
    "\n",
    "The constructor takes at least one parameter, self, which refers to the instance being created, and can also accept additional parameters to initialize the object with specific values.\n"
   ]
  },
  {
   "cell_type": "markdown",
   "id": "e9eb0d25-d0d3-4d65-8d0c-b6e9af774c60",
   "metadata": {},
   "source": [
    "Question No:10\n",
    "\n",
    "Ans-Class methods and static methods in Python are two types of methods defined inside a class but differ in how they interact with the class and its instances:\n",
    "\n",
    "Class Method:\n",
    "-Defined with the @classmethod decorator.\n",
    "-Takes the class itself as the first parameter, conventionally named cls.\n",
    "-Can access and modify class-level attributes and state.\n",
    "-Often used for factory methods that create class instances in alternative ways.\n",
    "-Called on the class itself, not on instances.\n",
    "\n",
    "Static Method:\n",
    "-Defined with the @staticmethod decorator.\n",
    "-Does not take self or cls as the first parameter.\n",
    "-Cannot access or modify class or instance state.\n",
    "-Used for utility functions related to the class but independent of class or instance data.\n",
    "-Can be called on the class or instances.\n",
    "\n"
   ]
  },
  {
   "cell_type": "markdown",
   "id": "38dcd4c1-5a35-4b9b-a5f1-f4c3d6733cc4",
   "metadata": {},
   "source": [
    "Question No:11\n",
    "\n",
    "Ans-Method overloading is a feature in object-oriented programming where a class can have multiple methods with the same name but different parameters . These differences can be in the number of parameters, the type of parameters, or both . \n",
    "\n",
    "The primary goal is to allow a single method name to perform slightly different operations based on the arguments provided .\n",
    "\n"
   ]
  },
  {
   "cell_type": "markdown",
   "id": "681e6b7b-4dcb-4751-96d9-069dcfe3e0e2",
   "metadata": {},
   "source": [
    "Question No: 12\n",
    "\n",
    "Ans-Method overriding in Object-Oriented Programming (OOP) is a feature that allows a subclass to provide a specific implementation of a method that is already defined in its superclass. \n",
    "\n",
    "When the subclass defines a method with the same name, parameters, and signature as the superclass method, it replaces or modifies the behavior of that method for instances of the subclass. \n",
    "\n",
    "This enables polymorphism, where the method that gets executed depends on the type of the object invoking it, not the reference type.\n",
    "\n"
   ]
  },
  {
   "cell_type": "markdown",
   "id": "3458b2ec-f63a-4677-b33b-3a4e9edf3dba",
   "metadata": {},
   "source": [
    "Question No: 13 \n",
    "\n",
    "Ans- The property decorator in Python, written as @property, is a built-in decorator that allows you to define methods in a class that behave like attributes. \n",
    "\n",
    "It provides a clean and elegant way to manage attribute access by turning method calls into attribute-like access, enabling you to define getter, setter, and deleter functions."
   ]
  },
  {
   "cell_type": "markdown",
   "id": "712d311a-cad7-45bc-8e9e-698ec9d12bdb",
   "metadata": {},
   "source": [
    "Question No: 14\n",
    "\n",
    "Ans-  Polymorphism is important in Object-Oriented Programming (OOP) because it allows a single interface or method to represent multiple forms or behaviors, enabling objects of different classes to be treated uniformly while responding differently to the same method call. \n",
    "\n",
    "This flexibility improves code reusability, scalability, and maintainability by allowing developers to write more general and extensible code that can work with new classes without modification. \n",
    "\n",
    "Polymorphism also simplifies code readability and debugging by reducing conditional statements and enabling dynamic method invocation based on the object’s actual type at runtime. Overall, it supports efficient software design by promoting modularity, reducing code duplication, and facilitating easier extension of existing codebases"
   ]
  },
  {
   "cell_type": "markdown",
   "id": "b4726b7e-0512-4fa2-9a58-667d4d417733",
   "metadata": {},
   "source": [
    "Question No: 15\n",
    "\n",
    "Ans- An abstract class in Python is a class that cannot be instantiated on its own and serves as a blueprint for other classes. It defines a common interface by declaring one or more abstract methods—methods without implementation—that must be implemented by any subclass. \n",
    "\n",
    "This ensures that all subclasses follow a consistent structure while allowing them to provide their own specific behavior."
   ]
  },
  {
   "cell_type": "markdown",
   "id": "539c6220-af28-4a39-8bc8-a482410a9b6b",
   "metadata": {},
   "source": [
    "Question No: 16\n",
    "\n",
    "Ans-  \n",
    "1.Security: Encapsulation bundles data and methods inside objects, protecting data from unintended access or corruption.\n",
    "2. Improved Collaboration: Complex systems are divided into small, manageable objects, allowing developers to work independently on different parts.\n",
    "3. Code Reusability: Inheritance lets new classes reuse existing code, reducing duplication and saving development time.\n",
    "4. Ease of Maintenance and Updates: Abstraction hides complexity, making it easier to modify or extend code without affecting the whole system.\n",
    "5. Simplified Debugging: Objects can be tested and debugged independently, helping locate and fix problems efficiently.\n",
    "6. Flexibility: Polymorphism allows treating different objects through a common interface, reducing code duplication and increasing adaptability.\n",
    "7. Increased Productivity: Modular design and reusable components speed up development and improve software quality.\n",
    "8. Scalability: OOP makes it easier to scale software systems by adding new features or classes without major changes.\n",
    "9. Reduced Development Cost: Reusing code and modular design lower the overall cost and effort in software development.\n",
    "10. Better Organization: OOP models real-world entities, making code more intuitive, readable, and maintainable."
   ]
  },
  {
   "cell_type": "markdown",
   "id": "efbd6151-6b36-4eb9-95c0-f73ae4822871",
   "metadata": {},
   "source": [
    "Question No: 17\n",
    "\n",
    "Ans- Class Variable:\n",
    "A class variable is shared by all instances of a class. It is defined directly inside the class but outside any method. All objects of the class access the same copy of this variable. If the class variable is modified through one instance, the change reflects across all instances. Class variables are typically used to store data that should be common to all instances, such as constants or counters.\n",
    "\n",
    "Instance Variable:\n",
    "An instance variable is unique to each instance of a class. It is usually defined inside the constructor (__init__ method) using self. Each object maintains its own copy of instance variables, so changes to one object's instance variables do not affect others. Instance variables store data that varies from object to object.\n",
    "\n"
   ]
  },
  {
   "cell_type": "markdown",
   "id": "dcf50959-527f-44dd-88e0-5cda0c5a08eb",
   "metadata": {},
   "source": [
    "Question No: 18\n",
    "\n",
    "Ans- Multiple inheritance in Python is a feature where a class can inherit attributes and methods from more than one parent class. This means a single child class can combine behaviors and properties from multiple base classes, allowing for greater code reuse and flexibility. \n",
    "\n",
    "The syntax involves listing multiple parent classes separated by commas in the class definition."
   ]
  },
  {
   "cell_type": "markdown",
   "id": "2030219f-ccba-46dd-9e01-56aad413748e",
   "metadata": {},
   "source": [
    "Question No: 19\n",
    "\n",
    "Ans- The str and repr methods in Python provide string representations of objects with different purposes:\n",
    "\n",
    "repr returns an unambiguous and detailed string representation of the object, ideally one that can be used to recreate the object. It is mainly intended for developers and debugging. It is called by the repr() function and shown in the interactive interpreter.\n",
    "\n",
    "str returns a readable and user-friendly string representation of the object, suitable for display to end users. It is called by the str() function and by print(). If str is not defined, Python uses repr as a fallback.\n",
    "\n"
   ]
  },
  {
   "cell_type": "markdown",
   "id": "85464e4d-6754-4786-b4b6-c2f97eff3a9c",
   "metadata": {},
   "source": [
    "Question No: 20\n",
    "\n",
    "Ans-  The super() function in Python is used to give access to methods and properties of a parent or superclass from a subclass. It returns a temporary object of the superclass that allows you to call its methods without explicitly naming the parent class. \n"
   ]
  },
  {
   "cell_type": "markdown",
   "id": "2f9acbbd-7f0c-4a86-ad75-e2cd34bb2a8b",
   "metadata": {},
   "source": [
    "Question No: 21\n",
    "\n",
    "Ans- The del method in Python is a special destructor method that is called automatically when an object is about to be destroyed, typically when its reference count drops to zero and the garbage collector is about to reclaim its memory. It allows you to define cleanup actions, such as releasing external resources like files, network connections, or database connections, before the object is removed from memory.\n",
    "\n"
   ]
  },
  {
   "cell_type": "markdown",
   "id": "c45171d8-625c-4407-8999-a09c3b244f30",
   "metadata": {},
   "source": [
    "Question No: 22\n",
    "\n",
    "Ans- Parameter Received:\n",
    "A class method receives the class (cls) as the first parameter, wherein it can access class-level attributes and methods, whereas a static method does not receive any implicit first argument and operates independently of the class or instance.\n",
    "\n",
    "Access to Class and Instance State:\n",
    "Class methods can access and modify the class state, wherein they are useful for operations that affect the class as a whole, whereas static methods cannot access or modify class or instance state, serving only as utility functions related to the class.\n",
    "\n",
    "Typical Use Cases:\n",
    "Class methods are typically used for factory methods or when behavior needs to be tied to the class itself, wherein static methods are used for general-purpose functions that logically belong to the class but do not depend on class or instance data.\n",
    "\n",
    "Calling Context:\n",
    "Both class methods and static methods can be called on the class or instances, wherein class methods operate with knowledge of the class context, and static methods operate without any class or instance context.\n",
    "\n",
    "Purpose:\n",
    "Class methods are designed to work with the class and enable access to class variables and methods, wherein static methods provide functionality that is related to the class but independent of its state."
   ]
  },
  {
   "cell_type": "markdown",
   "id": "4204b16f-fbec-4ba1-9272-a838dc8c0bef",
   "metadata": {},
   "source": [
    "Question No: 23\n",
    "\n",
    "Ans- Polymorphism in Python with inheritance works by allowing subclasses to override methods of their parent class and provide their own specific implementations, wherein the same method call behaves differently depending on the actual object’s class. When a method is called on an object, Python determines at runtime which version of the method to execute based on the object's type, enabling dynamic method dispatch.\n",
    "\n"
   ]
  },
  {
   "cell_type": "markdown",
   "id": "09471512-6dcc-416a-b427-aa8d7ca70e82",
   "metadata": {},
   "source": [
    "Question No: 24\n",
    "\n",
    "Ans- Method chaining in Python OOP is a programming technique wherein multiple methods are called sequentially on the same object in a single, continuous line of code. This works by ensuring that each method returns the object itself (usually self), allowing the next method to be invoked directly on the returned object. Method chaining makes the code cleaner, more readable, and easier to maintain by reducing the need for intermediate variables or multiple separate statements."
   ]
  },
  {
   "cell_type": "markdown",
   "id": "48dc879a-7afe-459a-a5ee-3f41cb7e461e",
   "metadata": {},
   "source": [
    "Question No: 25\n",
    "\n",
    "Ans-The purpose of the call method in Python is to make an instance of a class callable like a regular function, wherein defining this special method inside a class allows you to use parentheses () on its objects to invoke the call method automatically. This feature enables objects to behave like functions, combining object-oriented programming with function-like behavior, which is useful for creating flexible and reusable code.\n",
    "\n"
   ]
  },
  {
   "cell_type": "code",
   "execution_count": null,
   "id": "dea0ea9b-3973-46b8-ba74-bc72a54fb748",
   "metadata": {},
   "outputs": [],
   "source": [
    "# Practical questions "
   ]
  },
  {
   "cell_type": "code",
   "execution_count": 5,
   "id": "664065d6-3730-47e6-8a18-b55c17a1bd3d",
   "metadata": {},
   "outputs": [
    {
     "name": "stdout",
     "output_type": "stream",
     "text": [
      "Bark!\n"
     ]
    }
   ],
   "source": [
    "# Question 1\n",
    "\n",
    "# Parent class\n",
    "class Animal:\n",
    "    def speak(self):\n",
    "        print(\"The animal makes a sound.\")\n",
    "\n",
    "# Child class\n",
    "class Dog(Animal):\n",
    "    def speak(self):\n",
    "        print(\"Bark!\")\n",
    "        \n",
    "dog = Dog()\n",
    "dog.speak()\n"
   ]
  },
  {
   "cell_type": "code",
   "execution_count": 6,
   "id": "8187cff0-091c-42f4-bf84-38b353f12fad",
   "metadata": {},
   "outputs": [
    {
     "name": "stdout",
     "output_type": "stream",
     "text": [
      "Circle area: 78.53981633974483\n",
      "Rectangle area: 24\n"
     ]
    }
   ],
   "source": [
    "# Question 2\n",
    "\n",
    "from abc import ABC, abstractmethod\n",
    "import math\n",
    "\n",
    "class Shape(ABC):\n",
    "    @abstractmethod\n",
    "    def area(self):\n",
    "        pass\n",
    "\n",
    "class Circle(Shape):\n",
    "    def __init__(self, radius):\n",
    "        self.radius = radius\n",
    "\n",
    "    def area(self):\n",
    "        return math.pi * self.radius ** 2\n",
    "\n",
    "class Rectangle(Shape):\n",
    "    def __init__(self, width, height):\n",
    "        self.width = width\n",
    "        self.height = height\n",
    "\n",
    "    def area(self):\n",
    "        return self.width * self.height\n",
    "\n",
    "c = Circle(5)\n",
    "r = Rectangle(4, 6)\n",
    "\n",
    "print(\"Circle area:\", c.area())     \n",
    "print(\"Rectangle area:\", r.area())  \n"
   ]
  },
  {
   "cell_type": "code",
   "execution_count": 14,
   "id": "e4becce8-069d-4510-aea1-3e329195d77a",
   "metadata": {},
   "outputs": [
    {
     "name": "stdout",
     "output_type": "stream",
     "text": [
      "Car Tesla 100\n"
     ]
    }
   ],
   "source": [
    "# Question 3 \n",
    "\n",
    "class Vehicle:\n",
    "    def __init__(self, vtype):\n",
    "        self.type = vtype\n",
    "\n",
    "class Car(Vehicle):\n",
    "    def __init__(self, vtype, make):\n",
    "        super().__init__(vtype)\n",
    "        self.make = make\n",
    "\n",
    "class ElectricCar(Car):\n",
    "    def __init__(self, vtype, make, battery):\n",
    "        super().__init__(vtype, make)\n",
    "        self.battery = battery\n",
    "\n",
    "e = ElectricCar(\"Car\", \"Tesla\", 100)\n",
    "print(e.type, e.make, e.battery)  \n"
   ]
  },
  {
   "cell_type": "code",
   "execution_count": 15,
   "id": "8f2fff55-ec90-4a34-a7a6-2d54a23ecaec",
   "metadata": {},
   "outputs": [
    {
     "name": "stdout",
     "output_type": "stream",
     "text": [
      "Sparrow flies\n",
      "Penguin can't fly\n"
     ]
    }
   ],
   "source": [
    "# Question 4\n",
    "\n",
    "\n",
    "class Bird:\n",
    "    def fly(self):\n",
    "        print(\"Flying\")\n",
    "\n",
    "class Sparrow(Bird):\n",
    "    def fly(self):\n",
    "        print(\"Sparrow flies\")\n",
    "\n",
    "class Penguin(Bird):\n",
    "    def fly(self):\n",
    "        print(\"Penguin can't fly\")\n",
    "\n",
    "for b in [Sparrow(), Penguin()]:\n",
    "    b.fly()\n"
   ]
  },
  {
   "cell_type": "code",
   "execution_count": 16,
   "id": "df629147-ca48-4d6e-8fde-174f61a5eefa",
   "metadata": {},
   "outputs": [
    {
     "name": "stdout",
     "output_type": "stream",
     "text": [
      "120\n"
     ]
    }
   ],
   "source": [
    "# Question 5 \n",
    "\n",
    "class BankAccount:\n",
    "    def __init__(self, bal=0):\n",
    "        self.__balance = bal\n",
    "\n",
    "    def deposit(self, amt):\n",
    "        if amt > 0:\n",
    "            self.__balance += amt\n",
    "\n",
    "    def withdraw(self, amt):\n",
    "        if 0 < amt <= self.__balance:\n",
    "            self.__balance -= amt\n",
    "\n",
    "    def get_balance(self):\n",
    "        return self.__balance\n",
    "\n",
    "# Usage\n",
    "a = BankAccount(100)\n",
    "a.deposit(50)\n",
    "a.withdraw(30)\n",
    "print(a.get_balance())  # Outputs: 120\n"
   ]
  },
  {
   "cell_type": "code",
   "execution_count": 17,
   "id": "d5e70fb5-dcc4-40a9-9b0a-fa5c3082a782",
   "metadata": {},
   "outputs": [
    {
     "name": "stdout",
     "output_type": "stream",
     "text": [
      "Playing guitar\n",
      "Playing piano\n"
     ]
    }
   ],
   "source": [
    "# Question 6 \n",
    "\n",
    "class Instrument:\n",
    "    def play(self):\n",
    "        print(\"Playing instrument\")\n",
    "\n",
    "class Guitar(Instrument):\n",
    "    def play(self):\n",
    "        print(\"Playing guitar\")\n",
    "\n",
    "class Piano(Instrument):\n",
    "    def play(self):\n",
    "        print(\"Playing piano\")\n",
    "\n",
    "for instrument in [Guitar(), Piano()]:\n",
    "    instrument.play()\n",
    "\n",
    "  \n"
   ]
  },
  {
   "cell_type": "code",
   "execution_count": 18,
   "id": "7bc3217a-5e3a-4bda-9d94-39657555da1d",
   "metadata": {},
   "outputs": [
    {
     "name": "stdout",
     "output_type": "stream",
     "text": [
      "15\n",
      "5\n"
     ]
    }
   ],
   "source": [
    "# Question 7\n",
    "\n",
    "class MathOperations:\n",
    "    @classmethod\n",
    "    def add_numbers(cls, a, b):\n",
    "        return a + b\n",
    "\n",
    "    @staticmethod\n",
    "    def subtract_numbers(a, b):\n",
    "        return a - b\n",
    "\n",
    "print(MathOperations.add_numbers(10, 5))      \n",
    "print(MathOperations.subtract_numbers(10, 5)) \n"
   ]
  },
  {
   "cell_type": "code",
   "execution_count": null,
   "id": "7a5c0761-17c5-4839-a22a-5c5224964714",
   "metadata": {},
   "outputs": [],
   "source": [
    "# Question 8 \n",
    "\n",
    "class Person:\n",
    "    count = 0  \n",
    "\n",
    "    def __init__(self, name):\n",
    "        self.name = name\n",
    "        Person.count += 1  \n",
    "\n",
    "    @classmethod\n",
    "    def total_persons(cls):\n",
    "        return cls.count\n",
    "\n",
    "p1 = Person(\"Alice\")\n",
    "p2 = Person(\"Bob\")\n",
    "p3 = Person(\"Charlie\")\n",
    "\n",
    "print(Person.total_persons())  \n"
   ]
  },
  {
   "cell_type": "code",
   "execution_count": 19,
   "id": "92d133cd-486a-402d-a0ab-43d458345dc4",
   "metadata": {},
   "outputs": [
    {
     "name": "stdout",
     "output_type": "stream",
     "text": [
      "3/4\n"
     ]
    }
   ],
   "source": [
    "# Question 9\n",
    "\n",
    "class Fraction:\n",
    "    def __init__(self, numerator, denominator):\n",
    "        self.numerator = numerator\n",
    "        self.denominator = denominator\n",
    "\n",
    "    def __str__(self):\n",
    "        return f\"{self.numerator}/{self.denominator}\"\n",
    "\n",
    "f = Fraction(3, 4)\n",
    "print(f)"
   ]
  },
  {
   "cell_type": "code",
   "execution_count": 20,
   "id": "423e10ee-86af-4259-b1c3-c5aba7d3fa23",
   "metadata": {},
   "outputs": [
    {
     "name": "stdout",
     "output_type": "stream",
     "text": [
      "Vector(4, 6)\n"
     ]
    }
   ],
   "source": [
    "# Question 10\n",
    "\n",
    "class Vector:\n",
    "    def __init__(self, x, y):\n",
    "        self.x = x\n",
    "        self.y = y\n",
    "\n",
    "    def __add__(self, other):\n",
    "        return Vector(self.x + other.x, self.y + other.y)\n",
    "\n",
    "    def __repr__(self):\n",
    "        return f\"Vector({self.x}, {self.y})\"\n",
    "\n",
    "v1 = Vector(1, 2)\n",
    "v2 = Vector(3, 4)\n",
    "print(v1 + v2)  \n"
   ]
  },
  {
   "cell_type": "code",
   "execution_count": 22,
   "id": "454f6202-b269-47ae-bdcc-d2aa0a1e7d7e",
   "metadata": {},
   "outputs": [
    {
     "name": "stdout",
     "output_type": "stream",
     "text": [
      "Hello, my name is Uma and I am 30 years old.\n"
     ]
    }
   ],
   "source": [
    "# Question 11\n",
    "\n",
    "class Person:\n",
    "    def __init__(self, name, age):\n",
    "        self.name = name\n",
    "        self.age = age\n",
    "\n",
    "    def greet(self):\n",
    "        print(f\"Hello, my name is {self.name} and I am {self.age} years old.\")\n",
    "\n",
    "p = Person(\"Uma\", 30)\n",
    "p.greet()  \n"
   ]
  },
  {
   "cell_type": "code",
   "execution_count": 28,
   "id": "4e4fbfc4-ad5b-450c-b2f0-65d90a6c851f",
   "metadata": {},
   "outputs": [
    {
     "name": "stdout",
     "output_type": "stream",
     "text": [
      "87.5\n"
     ]
    }
   ],
   "source": [
    "# Question 12 \n",
    "\n",
    "class Student:\n",
    "    def __init__(self, name, grades):\n",
    "        self.name = name\n",
    "        self.grades = grades\n",
    "\n",
    "    def average_grade(self):\n",
    "        return sum(self.grades) / len(self.grades)\n",
    "\n",
    "s = Student(\"uma\", [80, 90, 85, 95])\n",
    "print(s.average_grade())  \n"
   ]
  },
  {
   "cell_type": "code",
   "execution_count": 29,
   "id": "8af0a0f7-ecff-41c6-8e39-154cd42d3c6a",
   "metadata": {},
   "outputs": [
    {
     "name": "stdout",
     "output_type": "stream",
     "text": [
      "15\n"
     ]
    }
   ],
   "source": [
    "# Question 13\n",
    "\n",
    "class Rectangle:\n",
    "    def set_dimensions(self, length, width):\n",
    "        self.length = length\n",
    "        self.width = width\n",
    "\n",
    "    def area(self):\n",
    "        return self.length * self.width\n",
    "\n",
    "r = Rectangle()\n",
    "r.set_dimensions(5, 3)\n",
    "print(r.area())  \n"
   ]
  },
  {
   "cell_type": "code",
   "execution_count": 32,
   "id": "d178f549-58eb-4e7e-899e-1dad1d5b8462",
   "metadata": {},
   "outputs": [
    {
     "name": "stdout",
     "output_type": "stream",
     "text": [
      "8000 17000\n"
     ]
    }
   ],
   "source": [
    "# Question 14\n",
    "\n",
    "class Employee:\n",
    "    def __init__(self, h, r): self.h, self.r = h, r\n",
    "    def calc(self): return self.h * self.r\n",
    "\n",
    "class Manager(Employee):\n",
    "    def __init__(self, h, r, b): super().__init__(h, r); self.b = b\n",
    "    def calc(self): return super().calc() + self.b\n",
    "\n",
    "e = Employee(40, 200)\n",
    "m = Manager(40, 300, 5000)\n",
    "print(e.calc(), m.calc())  "
   ]
  },
  {
   "cell_type": "code",
   "execution_count": 33,
   "id": "28eea587-156a-484f-8f35-8076b2751fd5",
   "metadata": {},
   "outputs": [
    {
     "name": "stdout",
     "output_type": "stream",
     "text": [
      "50\n"
     ]
    }
   ],
   "source": [
    "# Question 15\n",
    "\n",
    "class Product:\n",
    "    def __init__(self, name, price, quantity):\n",
    "        self.name = name\n",
    "        self.price = price\n",
    "        self.quantity = quantity\n",
    "\n",
    "    def total_price(self):\n",
    "        return self.price * self.quantity\n",
    "\n",
    "p = Product(\"Pen\", 10, 5)\n",
    "print(p.total_price())  "
   ]
  },
  {
   "cell_type": "code",
   "execution_count": 35,
   "id": "b0a9e4bb-0e7c-4d34-87c6-2a35475a86bf",
   "metadata": {},
   "outputs": [
    {
     "name": "stdout",
     "output_type": "stream",
     "text": [
      "Moo\n",
      "Baa\n"
     ]
    }
   ],
   "source": [
    "# Question 16\n",
    "\n",
    "from abc import ABC, abstractmethod\n",
    "\n",
    "class Animal(ABC):\n",
    "    @abstractmethod\n",
    "    def sound(self):\n",
    "        pass\n",
    "\n",
    "class Cow(Animal):\n",
    "    def sound(self):\n",
    "        print(\"Moo\")\n",
    "\n",
    "class Sheep(Animal):\n",
    "    def sound(self):\n",
    "        print(\"Baa\")\n",
    "\n",
    "# Example usage\n",
    "Cow().sound()   \n",
    "Sheep().sound() \n"
   ]
  },
  {
   "cell_type": "code",
   "execution_count": 36,
   "id": "5f85265f-8195-487a-915d-ea17fbde4cbe",
   "metadata": {},
   "outputs": [
    {
     "name": "stdout",
     "output_type": "stream",
     "text": [
      "1984, by George Orwell (1949)\n"
     ]
    }
   ],
   "source": [
    "# Question 17\n",
    "\n",
    "class Book:\n",
    "    def __init__(self, title, author, year_published):\n",
    "        self.title = title\n",
    "        self.author = author\n",
    "        self.year_published = year_published\n",
    "\n",
    "    def get_book_info(self):\n",
    "        return f\"{self.title}, by {self.author} ({self.year_published})\"\n",
    "\n",
    "b = Book(\"1984\", \"George Orwell\", 1949)\n",
    "print(b.get_book_info())  "
   ]
  },
  {
   "cell_type": "code",
   "execution_count": 39,
   "id": "a2c4e9a9-37a1-4110-9822-89097fb9e495",
   "metadata": {},
   "outputs": [
    {
     "name": "stdout",
     "output_type": "stream",
     "text": [
      "Sector 8, kumbhamarg, Jaipur 1000000 10\n"
     ]
    }
   ],
   "source": [
    "# Question 18\n",
    "\n",
    "class House:\n",
    "    def __init__(self, address, price):\n",
    "        self.address = address\n",
    "        self.price = price\n",
    "\n",
    "class Mansion(House):\n",
    "    def __init__(self, address, price, number_of_rooms):\n",
    "        super().__init__(address, price)\n",
    "        self.number_of_rooms = number_of_rooms\n",
    "\n",
    "m = Mansion(\"Sector 8, kumbhamarg, Jaipur\", 1000000, 10)\n",
    "print(m.address, m.price, m.number_of_rooms) "
   ]
  },
  {
   "cell_type": "code",
   "execution_count": null,
   "id": "5229d9c9-67cd-447b-b51a-e95ca181add2",
   "metadata": {},
   "outputs": [],
   "source": []
  }
 ],
 "metadata": {
  "kernelspec": {
   "display_name": "Python [conda env:base] *",
   "language": "python",
   "name": "conda-base-py"
  },
  "language_info": {
   "codemirror_mode": {
    "name": "ipython",
    "version": 3
   },
   "file_extension": ".py",
   "mimetype": "text/x-python",
   "name": "python",
   "nbconvert_exporter": "python",
   "pygments_lexer": "ipython3",
   "version": "3.12.7"
  }
 },
 "nbformat": 4,
 "nbformat_minor": 5
}
