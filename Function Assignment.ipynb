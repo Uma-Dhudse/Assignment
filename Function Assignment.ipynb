{
 "cells": [
  {
   "cell_type": "code",
   "execution_count": 6,
   "id": "c9bc784b-0529-4bee-8e77-c44b8a7528b1",
   "metadata": {},
   "outputs": [
    {
     "data": {
      "text/plain": [
       "20"
      ]
     },
     "execution_count": 6,
     "metadata": {},
     "output_type": "execute_result"
    }
   ],
   "source": [
    "# Question 1\n",
    "\n",
    "a =[1,2,3,6,5,4,7,8,9]\n",
    "def sum1(p):\n",
    "    sum = 0\n",
    "    for i in p :\n",
    "        if i % 2 == 0:\n",
    "            sum += i\n",
    "    return sum\n",
    "sum1(a) "
   ]
  },
  {
   "cell_type": "code",
   "execution_count": 7,
   "id": "b40e7b68-6e90-4af7-b150-d73038c4865c",
   "metadata": {},
   "outputs": [
    {
     "data": {
      "text/plain": [
       "'Amu'"
      ]
     },
     "execution_count": 7,
     "metadata": {},
     "output_type": "execute_result"
    }
   ],
   "source": [
    "# Question 2\n",
    "\n",
    "def text():\n",
    "    a = \"umA\"\n",
    "    return a[::-1]\n",
    "text()"
   ]
  },
  {
   "cell_type": "code",
   "execution_count": 18,
   "id": "976fd456-6a9c-4525-8f3a-9a9e69107261",
   "metadata": {},
   "outputs": [
    {
     "name": "stdout",
     "output_type": "stream",
     "text": [
      "[1, 4, 9, 16, 25]\n"
     ]
    }
   ],
   "source": [
    "# Question 3\n",
    "\n",
    "def square_list(numbers):\n",
    "    return [x**2 for x in numbers]\n",
    "\n",
    "# Example usage\n",
    "nums = [1, 2, 3, 4, 5]\n",
    "print(square_list(nums))  # Output: [1, 4, 9, 16, 25]"
   ]
  },
  {
   "cell_type": "code",
   "execution_count": 9,
   "id": "bebe034d-4f9a-41d3-a469-0f4ce32b2d4d",
   "metadata": {},
   "outputs": [
    {
     "name": "stdout",
     "output_type": "stream",
     "text": [
      "[2, 3, 5, 7, 11, 13, 17, 19, 23, 29, 31, 37, 41, 43, 47, 53, 59, 61, 67, 71, 73, 79, 83, 89, 97, 101, 103, 107, 109, 113, 127, 131, 137, 139, 149, 151, 157, 163, 167, 173, 179, 181, 191, 193, 197, 199]\n"
     ]
    }
   ],
   "source": [
    "# Question 4\n",
    "\n",
    "def is_prime(n):\n",
    "    if n <= 1:\n",
    "        return False\n",
    "    for i in range(2, n):\n",
    "        if n % i == 0:\n",
    "            return False\n",
    "    return True\n",
    "\n",
    "prime_numbers = []\n",
    "\n",
    "for number in range(1, 201):\n",
    "    if is_prime(number):\n",
    "        prime_numbers.append(number)\n",
    "\n",
    "print(prime_numbers)"
   ]
  },
  {
   "cell_type": "code",
   "execution_count": 10,
   "id": "472e72a3-1744-45b6-85ec-fb327f400702",
   "metadata": {},
   "outputs": [
    {
     "name": "stdout",
     "output_type": "stream",
     "text": [
      "[0, 1, 1, 2, 3, 5, 8, 13, 21, 34]\n"
     ]
    }
   ],
   "source": [
    "# Question 5\n",
    "\n",
    "def fib(n):\n",
    "    a = 0\n",
    "    b = 1\n",
    "    for _ in range(n):\n",
    "        yield a\n",
    "        a, b = b, a + b\n",
    "fib_list = list(fib(10))\n",
    "print(fib_list)"
   ]
  },
  {
   "cell_type": "code",
   "execution_count": 11,
   "id": "2a63d5eb-4bb8-464f-9029-03b373f69d73",
   "metadata": {},
   "outputs": [
    {
     "name": "stdout",
     "output_type": "stream",
     "text": [
      "1\n",
      "2\n",
      "4\n",
      "8\n"
     ]
    }
   ],
   "source": [
    "# Question 6\n",
    "\n",
    "def power(n):\n",
    "    for i in range(n + 1):\n",
    "        yield 2 ** i\n",
    "for num in power(3):\n",
    "    print(num)\n"
   ]
  },
  {
   "cell_type": "code",
   "execution_count": 12,
   "id": "0f6b874a-6ed7-4348-9117-5e415b344406",
   "metadata": {},
   "outputs": [
    {
     "name": "stdout",
     "output_type": "stream",
     "text": [
      "Hello\n",
      "My name is Uma\n",
      "and I have the power to create the life I desire.\n"
     ]
    }
   ],
   "source": [
    "# Question 7\n",
    "\n",
    "with open(\"myfile.txt\", \"w\") as f:\n",
    "    f.write(\"Hello\\n\")\n",
    "    f.write(\"My name is Uma\\n\")\n",
    "    f.write(\"and I have the power to create the life I desire.\\n\")\n",
    "\n",
    "def read_file_lines(file_path):\n",
    "    with open(file_path, 'r') as file:\n",
    "        for line in file:\n",
    "            yield line.strip()  \n",
    "\n",
    "for line in read_file_lines(\"myfile.txt\"):\n",
    "    print(line)\n",
    "\n"
   ]
  },
  {
   "cell_type": "code",
   "execution_count": 13,
   "id": "36ac342e-5811-4f7f-868f-7e877709098d",
   "metadata": {},
   "outputs": [
    {
     "name": "stdout",
     "output_type": "stream",
     "text": [
      "[(5, 1), (1, 2), (2, 3), (3, 4)]\n"
     ]
    }
   ],
   "source": [
    "# Question 8\n",
    "\n",
    "data = [(3, 4), (1, 2), (5, 1), (2, 3)]\n",
    "\n",
    "data.sort(key=lambda x: x[1])\n",
    "\n",
    "print(data)\n",
    "\n"
   ]
  },
  {
   "cell_type": "code",
   "execution_count": 14,
   "id": "dc10a6ec-1392-4d2e-99da-bed3ae6c28f3",
   "metadata": {},
   "outputs": [
    {
     "name": "stdout",
     "output_type": "stream",
     "text": [
      "[32.0, 50.0, 68.0, 86.0, 104.0]\n"
     ]
    }
   ],
   "source": [
    "# Question 9\n",
    "\n",
    "celsius = [0, 10, 20, 30, 40]\n",
    "fahrenheit = list(map(lambda c: (c * 9/5) + 32, celsius))\n",
    "print(fahrenheit)\n"
   ]
  },
  {
   "cell_type": "code",
   "execution_count": 15,
   "id": "86347283-e28d-42c7-a9c3-db6a90ef4680",
   "metadata": {},
   "outputs": [
    {
     "name": "stdout",
     "output_type": "stream",
     "text": [
      "Hll, my nm s Pysh?\n"
     ]
    }
   ],
   "source": [
    "# Question 10\n",
    "text = \"Hello, my name is Piyush?\"\n",
    "\n",
    "vowels = \"aeiouAEIOU\"\n",
    "\n",
    "no_vowels = ''.join(filter(lambda ch: ch not in vowels, text))\n",
    "\n",
    "print(no_vowels)\n"
   ]
  },
  {
   "cell_type": "code",
   "execution_count": 17,
   "id": "59c3f15c-5a02-41cc-80f0-32359ad23f0f",
   "metadata": {},
   "outputs": [
    {
     "name": "stdout",
     "output_type": "stream",
     "text": [
      "[(34587, 163.8), (98762, 284.0), (77226, 108.85000000000001), (88112, 84.97)]\n"
     ]
    }
   ],
   "source": [
    "# Question 11\n",
    "data = [\n",
    "    [34587, \"Learning Python, Mark Lutz\", 4, 40.95],\n",
    "    [98762, \"Programming Python, Mark Lutz\", 5, 56.80],\n",
    "    [77226, \"Head First Python, Paul Barry\", 3, 32.95],\n",
    "    [88112, \"Einführung in Python3, Bernd Klein\", 3, 24.99]\n",
    "]\n",
    "\n",
    "result = list(map(lambda x: (x[0], x[2] * x[3] if x[2] * x[3] >= 100 else x[2] * x[3] + 10), data))\n",
    "print(result)"
   ]
  },
  {
   "cell_type": "code",
   "execution_count": null,
   "id": "345a47e1-5693-4320-a4ee-b182ab84f5cb",
   "metadata": {},
   "outputs": [],
   "source": []
  },
  {
   "cell_type": "code",
   "execution_count": null,
   "id": "0d4c9dbb-526a-49c9-9450-5458cec152cc",
   "metadata": {},
   "outputs": [],
   "source": []
  },
  {
   "cell_type": "code",
   "execution_count": null,
   "id": "e117440e-4411-4047-8a09-7d041dc929b5",
   "metadata": {},
   "outputs": [],
   "source": []
  }
 ],
 "metadata": {
  "kernelspec": {
   "display_name": "Python [conda env:base] *",
   "language": "python",
   "name": "conda-base-py"
  },
  "language_info": {
   "codemirror_mode": {
    "name": "ipython",
    "version": 3
   },
   "file_extension": ".py",
   "mimetype": "text/x-python",
   "name": "python",
   "nbconvert_exporter": "python",
   "pygments_lexer": "ipython3",
   "version": "3.12.7"
  }
 },
 "nbformat": 4,
 "nbformat_minor": 5
}
